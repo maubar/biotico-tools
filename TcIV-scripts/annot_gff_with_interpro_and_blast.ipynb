{
 "metadata": {
  "name": "",
  "signature": "sha256:46ea8f6660918d0575f5402953da915568e30de507508740f032454c59365c38"
 },
 "nbformat": 3,
 "nbformat_minor": 0,
 "worksheets": [
  {
   "cells": [
    {
     "cell_type": "code",
     "collapsed": false,
     "input": [
      "from collections import defaultdict\n",
      "import csv\n",
      "import re\n",
      "import math"
     ],
     "language": "python",
     "metadata": {},
     "outputs": [],
     "prompt_number": 4
    },
    {
     "cell_type": "code",
     "collapsed": false,
     "input": [
      "#Files to annotate\n",
      "genes_gff = \"TcIV-X10825.v2.MAKER.gff\"\n",
      "genes_faa = \"TcIV-X10825.v2.all.maker.proteins.fasta\"\n",
      "#Annotation files\n",
      "interpro_gff3 = \"TcIV-X10825.v2.InterProScan.gff3\"\n",
      "blastp_tsv = \"TcIV-X10825.v2.all.maker.proteins.blastp\"\n",
      "#Outfiles\n",
      "annotated_gff = \"TcIV-X10825.v2.MAKER_ANNOTATED.gff\"\n",
      "annotated_faa = \"TcIV-X10825.v2.all.maker.proteins_ANNOTATED.fasta\""
     ],
     "language": "python",
     "metadata": {},
     "outputs": [],
     "prompt_number": 5
    },
    {
     "cell_type": "markdown",
     "metadata": {},
     "source": [
      "##Load Interpro annotation of interest to memory from GFF3"
     ]
    },
    {
     "cell_type": "code",
     "collapsed": false,
     "input": [
      "#GFF3 constants\n",
      "SEQID = 0 #Gene ID\n",
      "SOURCE = 1 #Annotation tool\n",
      "TYPE = 2\n",
      "START = 3\n",
      "END = 4\n",
      "SCORE = 5\n",
      "STRAND = 6\n",
      "PHASE = 7\n",
      "ATTRIBUTES = 8 #key value pairs"
     ],
     "language": "python",
     "metadata": {},
     "outputs": [],
     "prompt_number": 6
    },
    {
     "cell_type": "code",
     "collapsed": false,
     "input": [
      "#Extract key_value pairs from the Attributes column\n",
      "def extract_gff3_attributes(attribs,tag_line):\n",
      "    values = [\"\"] * len(attribs)\n",
      "    tag_fields = tag_line.split(\";\")\n",
      "    for field in tag_fields:\n",
      "        for idx,attrib in enumerate(attribs):\n",
      "            if attrib in field:\n",
      "                value_start = field.find(\"=\")\n",
      "                values[idx] = field[value_start+1:]\n",
      "    return values"
     ],
     "language": "python",
     "metadata": {},
     "outputs": [],
     "prompt_number": 7
    },
    {
     "cell_type": "code",
     "collapsed": false,
     "input": [
      "interpro_annot = {}\n",
      "\n",
      "attributes_to_extract=[\"signature_desc\",\"Ontology_term\",\"Dbxref\"]\n",
      "#Extract the signature description from Interpro annotation using \n",
      "with open(interpro_gff3,\"r\") as interpro_fh:\n",
      "    for line in interpro_fh:\n",
      "        if line[0] != \"#\" : #ignore comment lines\n",
      "            line_fields = line.rstrip(\"\\n\").split(\"\\t\")\n",
      "            \n",
      "            #Extract from Pfam lines the\n",
      "            if line_fields[SOURCE].lower() == \"pfam\":\n",
      "                attribs = extract_gff3_attributes(attributes_to_extract,line_fields[ATTRIBUTES])\n",
      "                #Remove the -mRNA(.*) \n",
      "                suffix_position = line_fields[SEQID].rfind(\"-mRNA\")\n",
      "                if suffix_position != -1:\n",
      "                    line_fields[SEQID] = line_fields[SEQID][:suffix_position]\n",
      "                interpro_annot[  line_fields[SEQID] ] = attribs\n",
      "        elif line.rstrip(\"\\n\") == \"##FASTA\":\n",
      "            break"
     ],
     "language": "python",
     "metadata": {},
     "outputs": [],
     "prompt_number": 8
    },
    {
     "cell_type": "code",
     "collapsed": false,
     "input": [
      "k = interpro_annot.keys()[450]\n",
      "print k"
     ],
     "language": "python",
     "metadata": {},
     "outputs": [
      {
       "output_type": "stream",
       "stream": "stdout",
       "text": [
        "maker-TcIV-654-exonerate_protein2genome-gene-0.55\n"
       ]
      }
     ],
     "prompt_number": 9
    },
    {
     "cell_type": "markdown",
     "metadata": {},
     "source": [
      "##Load blast annotation"
     ]
    },
    {
     "cell_type": "code",
     "collapsed": false,
     "input": [
      "#BLAST column constants\n",
      "BLAST_QUERY = 0\n",
      "BLAST_SUBJ = 1\n",
      "BLAST_PCT_ID = 2\n",
      "BLAST_ALI_LEN = 3\n",
      "BLAST_MISMATCH =4 #Mismatches\n",
      "BLAST_GAPS =5\n",
      "BLAST_Q_START =6\n",
      "BLAST_Q_END = 7\n",
      "BLAST_S_START =8 \n",
      "BLAST_S_END = 9\n",
      "BLAST_EVAL = 10\n",
      "BLAST_BITSCORE = 11\n",
      "\n",
      "blast_col_types = (str,str,float,float,int,int,int,int,int,int,float,float)"
     ],
     "language": "python",
     "metadata": {},
     "outputs": [],
     "prompt_number": 10
    },
    {
     "cell_type": "code",
     "collapsed": false,
     "input": [
      "def parse_blast_hit(fields):\n",
      "    #Remove \"-RNA1\" prefix from Query ID\n",
      "    fields[0] = fields[0].split(\"-mRNA\")[0]\n",
      "    #Convert each column to the adequate typet\n",
      "    parsed_fields = [ blast_col_types[idx](f) for idx,f in enumerate(fields)  ]\n",
      "    return parsed_fields"
     ],
     "language": "python",
     "metadata": {},
     "outputs": [],
     "prompt_number": 11
    },
    {
     "cell_type": "code",
     "collapsed": false,
     "input": [
      "def is_a_better_hit(new_hit, original_hit):\n",
      "    return new_hit[BLAST_EVAL] < original_hit[BLAST_EVAL] \n",
      "\n",
      "def hit_good_enough(blast_hit):\n",
      "    pct_id = blast_hit[BLAST_PCT_ID]\n",
      "    q_coverage = 100.0 * (blast_hit[BLAST_ALI_LEN] - blast_hit[BLAST_GAPS]) / abs( blast_hit[BLAST_Q_END] - blast_hit[BLAST_Q_START] )\n",
      "    e_value = blast_hit[BLAST_EVAL]\n",
      "    good_enough = pct_id > 85.0 and q_coverage > 80.0 and e_value < 0.00001 \n",
      "    return good_enough"
     ],
     "language": "python",
     "metadata": {},
     "outputs": [],
     "prompt_number": 12
    },
    {
     "cell_type": "code",
     "collapsed": false,
     "input": [
      "blast_annot = {}\n",
      "with open(blastp_tsv,\"r\") as blastp_fh:\n",
      "    for blast_fields in csv.reader(blastp_fh,delimiter=\"\\t\",quotechar='|'):\n",
      "        parsed_hit = parse_blast_hit(blast_fields)\n",
      "        if hit_good_enough(parsed_hit):\n",
      "            if parsed_hit[0] not in blast_annot or is_a_better_hit(parsed_hit,blast_annot[parsed_hit[0]]):\n",
      "                blast_annot[parsed_hit[0]] = parsed_hit"
     ],
     "language": "python",
     "metadata": {},
     "outputs": [],
     "prompt_number": 13
    },
    {
     "cell_type": "code",
     "collapsed": false,
     "input": [
      "k = blast_annot.keys()[450]\n",
      "print k\n",
      "print blast_annot[k]"
     ],
     "language": "python",
     "metadata": {},
     "outputs": [
      {
       "output_type": "stream",
       "stream": "stdout",
       "text": [
        "augustus_masked-TcIV-168-processed-gene-0.7\n",
        "['augustus_masked-TcIV-168-processed-gene-0.7', 'gi|71661116|ref|XP_817584.1|', 98.68, 380.0, 5, 0, 1, 380, 186, 565, 0.0, 772.0]\n"
       ]
      }
     ],
     "prompt_number": 14
    },
    {
     "cell_type": "markdown",
     "metadata": {},
     "source": [
      "##Rules for assigning a gene name to a given gene id"
     ]
    },
    {
     "cell_type": "code",
     "collapsed": false,
     "input": [
      "put_prot_counter = 0\n",
      "def assign_gene_name(gene_id, interpro_annot, blast_annot):\n",
      "    global put_prot_counter\n",
      "    go = kegg = \"\"\n",
      "    gene_name = \"putative_protein\"+str(put_prot_counter)\n",
      "    if gene_id in interpro_annot:\n",
      "        gene_name,go,kegg  = interpro_annot[gene_id]\n",
      "    elif gene_id in blast_annot:\n",
      "        gene_name = blast_annot[gene_id][BLAST_SUBJ]\n",
      "    else:\n",
      "        put_prot_counter += 1\n",
      "    return gene_name, go, kegg"
     ],
     "language": "python",
     "metadata": {},
     "outputs": [],
     "prompt_number": 15
    },
    {
     "cell_type": "markdown",
     "metadata": {},
     "source": [
      "##Parse Genes GFF, and rewrite annotated GFF"
     ]
    },
    {
     "cell_type": "code",
     "collapsed": false,
     "input": [
      "def extractGeneIDfromGFFline(line):\n",
      "    gene_id = False\n",
      "    name_match = re.search( r\"Name=(.+?)(-mRNA-[0-9]+?(:(exon|cds))?)?(;|$)\", line)\n",
      "    if name_match:\n",
      "        gene_id = name_match.group(1)\n",
      "    return gene_id\n",
      "\n",
      "#Substitutes the Name tag for Interpro or Blast annotation\n",
      "#Returns\n",
      "def processGFFLine(line, interpro_annot, blast_annot):\n",
      "    global put_prot_id\n",
      "    line_to_write = line\n",
      "    gene_id = False\n",
      "    gene_annotation = {}\n",
      "    if \"\\tgene\\t\" in line:\n",
      "        fields = line.split(\"\\t\")\n",
      "        gene_annotation[\"contig\"]  = fields[SEQID]\n",
      "        gene_annotation[\"position\"] = str(fields[START])+\"-\"+str(fields[END])\n",
      "        gene_id = extractGeneIDfromGFFline(fields[ATTRIBUTES])\n",
      "        assert gene_id\n",
      "        gene_annotation[\"gene_name\"],gene_annotation[\"go\"],gene_annotation[\"kegg\"] = assign_gene_name(gene_id,interpro_annot,blast_annot)\n",
      "        line_to_write = re.sub(r\"Name=(.+?)(;|$)\", \"Name='\"+gene_annotation[\"gene_name\"]+r\"'\\g<2>\",line) \n",
      "    return (line_to_write, gene_id, gene_annotation) \n"
     ],
     "language": "python",
     "metadata": {},
     "outputs": [],
     "prompt_number": 16
    },
    {
     "cell_type": "markdown",
     "metadata": {},
     "source": [
      "Extract Contig and position information of the gene"
     ]
    },
    {
     "cell_type": "code",
     "collapsed": false,
     "input": [
      "final_annotation = {}\n",
      "with open(genes_gff,\"r\") as genes_gff_fh, open(annotated_gff,\"w\") as gff_out_fh:\n",
      "    for line in genes_gff_fh:\n",
      "        if line[0] == \"#\":\n",
      "            gff_out_fh.write(line)\n",
      "        else:\n",
      "            new_gff_line, gene_id, gene_annot = processGFFLine(line, interpro_annot,blast_annot)\n",
      "            gff_out_fh.write(new_gff_line)\n",
      "            if gene_id:\n",
      "                final_annotation[gene_id] = gene_annot\n",
      "\n",
      "    gff_out_fh.close()"
     ],
     "language": "python",
     "metadata": {},
     "outputs": [],
     "prompt_number": 17
    },
    {
     "cell_type": "markdown",
     "metadata": {},
     "source": [
      "##Process and annotate Fasta file"
     ]
    },
    {
     "cell_type": "code",
     "collapsed": false,
     "input": [
      "def extractGeneIDfromFasta(line):\n",
      "    space_pos = line.find(\" \")\n",
      "    if space_pos != -1:\n",
      "        gene_id = line[1:space_pos].split(\"-mRNA\")[0]\n",
      "    else:\n",
      "        gene_id = line[1:].split(\"-mRNA\")[0]\n",
      "    return gene_id\n",
      "\n",
      "def is_fasta_header(line):\n",
      "    return line.startswith(\">\")"
     ],
     "language": "python",
     "metadata": {},
     "outputs": [],
     "prompt_number": 18
    },
    {
     "cell_type": "code",
     "collapsed": false,
     "input": [
      "with open(genes_faa,\"r\") as genes_faa_fh, open(annotated_faa,\"w\") as faa_out_fh:\n",
      "    for line in genes_faa_fh:\n",
      "        if is_fasta_header(line):\n",
      "            gene_id = extractGeneIDfromFasta(line)\n",
      "            assert  gene_id in final_annotation\n",
      "            gene_annotation = final_annotation[gene_id]\n",
      "            new_header = \">\"+gene_annotation[\"contig\"]+\":\"+gene_annotation[\"position\"]+\";\"+gene_annotation[\"gene_name\"]+\";\"+gene_annotation[\"go\"]+\";\"+gene_annotation[\"kegg\"]+\"\\n\"\n",
      "            faa_out_fh.write( new_header )\n",
      "        else:\n",
      "            faa_out_fh.write(line)\n",
      "            \n",
      "    faa_out_fh.close()"
     ],
     "language": "python",
     "metadata": {},
     "outputs": [],
     "prompt_number": 19
    },
    {
     "cell_type": "code",
     "collapsed": false,
     "input": [],
     "language": "python",
     "metadata": {},
     "outputs": [],
     "prompt_number": 19
    }
   ],
   "metadata": {}
  }
 ]
}