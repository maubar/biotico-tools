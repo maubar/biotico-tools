{
 "metadata": {
  "name": "",
  "signature": "sha256:c4d9335dbaa03fb0f4b866e8547c8bf5555cc717bb2a87554de54906e19d8176"
 },
 "nbformat": 3,
 "nbformat_minor": 0,
 "worksheets": [
  {
   "cells": [
    {
     "cell_type": "code",
     "collapsed": false,
     "input": [
      "import vcf"
     ],
     "language": "python",
     "metadata": {},
     "outputs": [],
     "prompt_number": 1
    },
    {
     "cell_type": "code",
     "collapsed": false,
     "input": [
      "#CONSTANTS\n",
      "PARENT_1 = 0\n",
      "PARENT_2 = 1\n",
      "OFFSPRING = 2"
     ],
     "language": "python",
     "metadata": {},
     "outputs": [],
     "prompt_number": 2
    },
    {
     "cell_type": "code",
     "collapsed": false,
     "input": [
      "#Input files\n",
      "vcf_filenames= (\"Dm28-NESM.GATK-HC.SNP-FinalSet.EFF.vcf\", \n",
      "                \"Esmeraldo-NESM.GATK-HC.SNP-FinalSet.EFF.vcf\",\n",
      "                \"X10825-NESM.GATK-HC.SNP-FinalSet.EFF.vcf\"\n",
      "                )\n",
      "vcf_files = [ vcf.Reader(open(filename)) for filename in vcf_filenames ]"
     ],
     "language": "python",
     "metadata": {},
     "outputs": [],
     "prompt_number": 3
    },
    {
     "cell_type": "code",
     "collapsed": false,
     "input": [
      "#Out files\n",
      "out_filenames = (\"p1_specific.out\",\n",
      "                 \"p2_specific.out\",\n",
      "                 \"offsp_specific.out\"\n",
      "                 )\n",
      "\n",
      "out_files = [ open(filename,\"w\") for filename in out_filenames ]"
     ],
     "language": "python",
     "metadata": {},
     "outputs": [],
     "prompt_number": 4
    },
    {
     "cell_type": "code",
     "collapsed": false,
     "input": [
      "#Print header\n",
      "column_headers=[\"CHROM\",\"POS\",\"Dm28_ALT\",\"Esmeraldo_ALT\",\"X10825_ALT\",\"X10825_GT\",\"GENE_NAME\"]\n",
      "for f in out_files:\n",
      "    f.write(\"\\t\".join(column_headers)+\"\\n\")\n",
      "\n",
      "#Define output format, with corresponding header\n",
      "def formatOutputLine(records):\n",
      "    current_chr,current_pos = extract_coord(records)\n",
      "    fields = (current_chr,\n",
      "              current_pos,\n",
      "              records[PARENT_1].ALT[0] if records[PARENT_1] else \"-\", \n",
      "              records[PARENT_2].ALT[0] if records[PARENT_2] else \"-\",\n",
      "              records[OFFSPRING].ALT[0] if records[OFFSPRING] else \"-\",\n",
      "              records[OFFSPRING].samples[0][\"GT\"] if records[OFFSPRING] else \"-\",\n",
      "              extractProteinFromEffect(records) \n",
      "              )\n",
      "    return \"\\t\".join([str(x) for x in fields])+\"\\n\""
     ],
     "language": "python",
     "metadata": {},
     "outputs": [],
     "prompt_number": 5
    },
    {
     "cell_type": "code",
     "collapsed": false,
     "input": [
      "def get_next_record(vcf):\n",
      "    record = False\n",
      "    try:\n",
      "        record = vcf.next()\n",
      "    except StopIteration:\n",
      "        pass\n",
      "    return record"
     ],
     "language": "python",
     "metadata": {},
     "outputs": [],
     "prompt_number": 6
    },
    {
     "cell_type": "code",
     "collapsed": false,
     "input": [
      "def extractProteinFromEffect(records):\n",
      "    protein = \"non-coding\"\n",
      "    for record in records:\n",
      "        if record and \"EFF\" in record.INFO:\n",
      "            protein = record.INFO[\"EFF\"][0].split(\"|\")[8]\n",
      "            break\n",
      "    return protein if protein else \"non-coding\"\n",
      "\n",
      "def extract_coord(records):\n",
      "    chrom = None\n",
      "    pos = None\n",
      "    for r in records:\n",
      "        if r:\n",
      "            chrom = r.CHROM\n",
      "            pos = r.POS\n",
      "    return (chrom,pos)"
     ],
     "language": "python",
     "metadata": {},
     "outputs": [],
     "prompt_number": 7
    },
    {
     "cell_type": "code",
     "collapsed": false,
     "input": [
      "#Ordering of chromosomes in file is:\n",
      "# 11, ... ,19,1,20,...,29,2,30,...,90,...,9,10\n",
      "#Solution:\n",
      "# num > 10 : e.g 30 -> 300, 39 -> 390, 40-> 400\n",
      "#num < 100: e.g 3 -> 3*100 + 95 = 395\n",
      "# num == 10 : 999999 (force to be last)\n",
      "def chrom_order_value(chrom):\n",
      "    cmp_value = 0\n",
      "    if chrom > 10:\n",
      "        cmp_value = chrom * 10\n",
      "    if chrom < 10:\n",
      "        cmp_value = (chrom * 100) + 95\n",
      "    if chrom == 10:\n",
      "        cmp_value = 999999\n",
      "    return cmp_value\n",
      "\n",
      "def cmp_records(record1, record2):\n",
      "    cmp_result = 0\n",
      "    \n",
      "    if record1.CHROM == record2.CHROM:\n",
      "        if record1.POS < record2.POS:\n",
      "            cmp_result = -1\n",
      "        elif record1.POS > record2.POS:\n",
      "            cmp_result = 1\n",
      "    elif chrom_order_value(record1.CHROM) < chrom_order_value(record2.CHROM):\n",
      "        cmp_result = -1\n",
      "    else:\n",
      "        cmp_result = 1\n",
      "        \n",
      "    return cmp_result"
     ],
     "language": "python",
     "metadata": {},
     "outputs": [],
     "prompt_number": 8
    },
    {
     "cell_type": "code",
     "collapsed": false,
     "input": [
      "def get_records_to_process(records):\n",
      "    min_pos = None\n",
      "    min_record = None\n",
      "    \n",
      "    for idx,current_record in enumerate(records):\n",
      "        if min_pos is None and current_record:\n",
      "            min_pos = [idx]\n",
      "            min_record = current_record\n",
      "        \n",
      "        elif current_record:\n",
      "            record_comparison = cmp_records(current_record, min_record)\n",
      "            #If records belong to the same position\n",
      "            if record_comparison == 0:\n",
      "                min_pos.append(idx)\n",
      "            #If one of the records has a lower chromosomal position, process that one\n",
      "            elif record_comparison == -1:\n",
      "                min_pos = [idx]\n",
      "                min_record = current_record\n",
      "    \n",
      "    return [(records[x] if x in min_pos else False) for x in (PARENT_1,PARENT_2,OFFSPRING)]"
     ],
     "language": "python",
     "metadata": {},
     "outputs": [],
     "prompt_number": 9
    },
    {
     "cell_type": "code",
     "collapsed": false,
     "input": [
      "def is_homozygous(record):\n",
      "    #return len(record.REF)\n",
      "    return not record or record.samples[0].data.GT in (\"0/0\",\"0|0\",\"1/1\",\"1|1\")\n",
      "\n",
      "def is_parent1_specific(records):    \n",
      "    test1 = not records[PARENT_1] and not records[OFFSPRING] and records[PARENT_2]\n",
      "    \n",
      "    test2 = records[PARENT_1] and records[OFFSPRING]\n",
      "    test2 = test2 and records[PARENT_1].ALT[0].sequence == records[OFFSPRING].ALT[0].sequence \n",
      "    test2 = test2 and (not records[PARENT_2] or records[PARENT_1].ALT[0].sequence != records[PARENT_2].ALT[0].sequence)\n",
      "    return test1 or test2\n",
      "\n",
      "def is_parent2_specific(records):\n",
      "    test1 = not records[PARENT_2] and not records[OFFSPRING] and records[PARENT_1]\n",
      "    \n",
      "    test2 = records[PARENT_2] and records[OFFSPRING]\n",
      "    test2 = test2 and records[PARENT_2].ALT[0].sequence == records[OFFSPRING].ALT[0].sequence \n",
      "    test2 = test2 and (not records[PARENT_1] or records[PARENT_1].ALT[0].sequence != records[PARENT_2].ALT[0].sequence)\n",
      "    \n",
      "    return test1 or test2\n",
      "    \n",
      "def is_offspring_specific(records):\n",
      "    test1 = not records[OFFSPRING] and records[PARENT_1] and records[PARENT_2]\n",
      "    \n",
      "    test2 = records[OFFSPRING] and (not records[PARENT_1] or records[PARENT_1].ALT[0].sequence != records[OFFSPRING].ALT[0].sequence ) \n",
      "    test2 = test2 and (not records[PARENT_2] or records[PARENT_2].ALT[0].sequence != records[OFFSPRING].ALT[0].sequence )   \n",
      "    return test1 or test2"
     ],
     "language": "python",
     "metadata": {},
     "outputs": [],
     "prompt_number": 10
    },
    {
     "cell_type": "code",
     "collapsed": false,
     "input": [
      "def process_records(records,out_files):\n",
      "    #If all records are homozygous\n",
      "    if reduce(lambda x,y:x and y,(is_homozygous(r) for r in records )):\n",
      "        if is_parent1_specific(records):\n",
      "            out_files[PARENT_1].write( formatOutputLine(records) )\n",
      "        elif is_parent2_specific(records):\n",
      "            out_files[PARENT_2].write( formatOutputLine(records) )\n",
      "        elif is_offspring_specific(records):\n",
      "            out_files[OFFSPRING].write( formatOutputLine(records) )"
     ],
     "language": "python",
     "metadata": {},
     "outputs": [],
     "prompt_number": 11
    },
    {
     "cell_type": "code",
     "collapsed": false,
     "input": [
      "def update_iteration(loaded_records,processed_records, vcf_files):\n",
      "    new_records = []\n",
      "    for loaded,processed,vcf_file in zip(loaded_records,processed_records,vcf_files):\n",
      "        if not loaded:\n",
      "            new_records.append(False)\n",
      "        if loaded and not processed:\n",
      "            new_records.append(loaded)\n",
      "        if loaded and processed:\n",
      "            new_records.append( get_next_record(vcf_file) )\n",
      "    return new_records"
     ],
     "language": "python",
     "metadata": {},
     "outputs": [],
     "prompt_number": 12
    },
    {
     "cell_type": "code",
     "collapsed": false,
     "input": [
      "#Initialize records with 1st record\n",
      "loaded_records = [get_next_record( vcf_file ) for vcf_file in vcf_files]"
     ],
     "language": "python",
     "metadata": {},
     "outputs": [],
     "prompt_number": 13
    },
    {
     "cell_type": "code",
     "collapsed": false,
     "input": [
      "def debug_printer(records):\n",
      "    rec_str = []\n",
      "    for rec in records:\n",
      "        if rec:\n",
      "            rec_str.append( (rec.CHROM,rec.POS) )\n",
      "        else:\n",
      "            rec_str.append(False)\n",
      "    return str(rec_str)"
     ],
     "language": "python",
     "metadata": {},
     "outputs": [],
     "prompt_number": 14
    },
    {
     "cell_type": "code",
     "collapsed": false,
     "input": [
      "counter = 1\n",
      "while reduce( lambda x,y: x or y, loaded_records):\n",
      "    #print debug_printer(loaded_records)\n",
      "    records_to_process = get_records_to_process(loaded_records)\n",
      "    #print debug_printer(records_to_process)\n",
      "    process_records( records_to_process ,out_files)\n",
      "    loaded_records = update_iteration(loaded_records,records_to_process, vcf_files)\n",
      "    counter +=1\n",
      "    if counter % 10000 == 0:\n",
      "        print \"Positions processed: \"+str(counter)"
     ],
     "language": "python",
     "metadata": {},
     "outputs": [
      {
       "output_type": "stream",
       "stream": "stdout",
       "text": [
        "Positions processed: 2000\n",
        "Positions processed: 4000"
       ]
      },
      {
       "output_type": "stream",
       "stream": "stdout",
       "text": [
        "\n",
        "Positions processed: 6000"
       ]
      },
      {
       "output_type": "stream",
       "stream": "stdout",
       "text": [
        "\n",
        "Positions processed: 8000"
       ]
      },
      {
       "output_type": "stream",
       "stream": "stdout",
       "text": [
        "\n",
        "Positions processed: 10000"
       ]
      },
      {
       "output_type": "stream",
       "stream": "stdout",
       "text": [
        "\n",
        "Positions processed: 12000"
       ]
      },
      {
       "output_type": "stream",
       "stream": "stdout",
       "text": [
        "\n",
        "Positions processed: 14000"
       ]
      },
      {
       "output_type": "stream",
       "stream": "stdout",
       "text": [
        "\n",
        "Positions processed: 16000"
       ]
      },
      {
       "output_type": "stream",
       "stream": "stdout",
       "text": [
        "\n",
        "Positions processed: 18000"
       ]
      },
      {
       "output_type": "stream",
       "stream": "stdout",
       "text": [
        "\n",
        "Positions processed: 20000"
       ]
      },
      {
       "output_type": "stream",
       "stream": "stdout",
       "text": [
        "\n",
        "Positions processed: 22000"
       ]
      },
      {
       "output_type": "stream",
       "stream": "stdout",
       "text": [
        "\n",
        "Positions processed: 24000"
       ]
      },
      {
       "output_type": "stream",
       "stream": "stdout",
       "text": [
        "\n",
        "Positions processed: 26000"
       ]
      },
      {
       "output_type": "stream",
       "stream": "stdout",
       "text": [
        "\n",
        "Positions processed: 28000"
       ]
      },
      {
       "output_type": "stream",
       "stream": "stdout",
       "text": [
        "\n",
        "Positions processed: 30000"
       ]
      },
      {
       "output_type": "stream",
       "stream": "stdout",
       "text": [
        "\n",
        "Positions processed: 32000"
       ]
      },
      {
       "output_type": "stream",
       "stream": "stdout",
       "text": [
        "\n",
        "Positions processed: 34000"
       ]
      },
      {
       "output_type": "stream",
       "stream": "stdout",
       "text": [
        "\n",
        "Positions processed: 36000"
       ]
      },
      {
       "output_type": "stream",
       "stream": "stdout",
       "text": [
        "\n",
        "Positions processed: 38000"
       ]
      },
      {
       "output_type": "stream",
       "stream": "stdout",
       "text": [
        "\n",
        "Positions processed: 40000"
       ]
      },
      {
       "output_type": "stream",
       "stream": "stdout",
       "text": [
        "\n",
        "Positions processed: 42000"
       ]
      },
      {
       "output_type": "stream",
       "stream": "stdout",
       "text": [
        "\n",
        "Positions processed: 44000"
       ]
      },
      {
       "output_type": "stream",
       "stream": "stdout",
       "text": [
        "\n",
        "Positions processed: 46000"
       ]
      },
      {
       "output_type": "stream",
       "stream": "stdout",
       "text": [
        "\n",
        "Positions processed: 48000"
       ]
      },
      {
       "output_type": "stream",
       "stream": "stdout",
       "text": [
        "\n",
        "Positions processed: 50000"
       ]
      },
      {
       "output_type": "stream",
       "stream": "stdout",
       "text": [
        "\n",
        "Positions processed: 52000"
       ]
      },
      {
       "output_type": "stream",
       "stream": "stdout",
       "text": [
        "\n",
        "Positions processed: 54000"
       ]
      },
      {
       "output_type": "stream",
       "stream": "stdout",
       "text": [
        "\n",
        "Positions processed: 56000"
       ]
      },
      {
       "output_type": "stream",
       "stream": "stdout",
       "text": [
        "\n",
        "Positions processed: 58000"
       ]
      },
      {
       "output_type": "stream",
       "stream": "stdout",
       "text": [
        "\n",
        "Positions processed: 60000"
       ]
      },
      {
       "output_type": "stream",
       "stream": "stdout",
       "text": [
        "\n",
        "Positions processed: 62000"
       ]
      },
      {
       "output_type": "stream",
       "stream": "stdout",
       "text": [
        "\n",
        "Positions processed: 64000"
       ]
      },
      {
       "output_type": "stream",
       "stream": "stdout",
       "text": [
        "\n",
        "Positions processed: 66000"
       ]
      },
      {
       "output_type": "stream",
       "stream": "stdout",
       "text": [
        "\n",
        "Positions processed: 68000"
       ]
      },
      {
       "output_type": "stream",
       "stream": "stdout",
       "text": [
        "\n",
        "Positions processed: 70000"
       ]
      },
      {
       "output_type": "stream",
       "stream": "stdout",
       "text": [
        "\n",
        "Positions processed: 72000"
       ]
      },
      {
       "output_type": "stream",
       "stream": "stdout",
       "text": [
        "\n",
        "Positions processed: 74000"
       ]
      },
      {
       "output_type": "stream",
       "stream": "stdout",
       "text": [
        "\n",
        "Positions processed: 76000"
       ]
      },
      {
       "output_type": "stream",
       "stream": "stdout",
       "text": [
        "\n",
        "Positions processed: 78000"
       ]
      },
      {
       "output_type": "stream",
       "stream": "stdout",
       "text": [
        "\n",
        "Positions processed: 80000"
       ]
      },
      {
       "output_type": "stream",
       "stream": "stdout",
       "text": [
        "\n",
        "Positions processed: 82000"
       ]
      },
      {
       "output_type": "stream",
       "stream": "stdout",
       "text": [
        "\n",
        "Positions processed: 84000"
       ]
      },
      {
       "output_type": "stream",
       "stream": "stdout",
       "text": [
        "\n",
        "Positions processed: 86000"
       ]
      },
      {
       "output_type": "stream",
       "stream": "stdout",
       "text": [
        "\n",
        "Positions processed: 88000"
       ]
      },
      {
       "output_type": "stream",
       "stream": "stdout",
       "text": [
        "\n",
        "Positions processed: 90000"
       ]
      },
      {
       "output_type": "stream",
       "stream": "stdout",
       "text": [
        "\n",
        "Positions processed: 92000"
       ]
      },
      {
       "output_type": "stream",
       "stream": "stdout",
       "text": [
        "\n",
        "Positions processed: 94000"
       ]
      },
      {
       "output_type": "stream",
       "stream": "stdout",
       "text": [
        "\n",
        "Positions processed: 96000"
       ]
      },
      {
       "output_type": "stream",
       "stream": "stdout",
       "text": [
        "\n",
        "Positions processed: 98000"
       ]
      },
      {
       "output_type": "stream",
       "stream": "stdout",
       "text": [
        "\n",
        "Positions processed: 100000"
       ]
      },
      {
       "output_type": "stream",
       "stream": "stdout",
       "text": [
        "\n",
        "Positions processed: 102000"
       ]
      },
      {
       "output_type": "stream",
       "stream": "stdout",
       "text": [
        "\n",
        "Positions processed: 104000"
       ]
      },
      {
       "output_type": "stream",
       "stream": "stdout",
       "text": [
        "\n",
        "Positions processed: 106000"
       ]
      },
      {
       "output_type": "stream",
       "stream": "stdout",
       "text": [
        "\n",
        "Positions processed: 108000"
       ]
      },
      {
       "output_type": "stream",
       "stream": "stdout",
       "text": [
        "\n",
        "Positions processed: 110000"
       ]
      },
      {
       "output_type": "stream",
       "stream": "stdout",
       "text": [
        "\n",
        "Positions processed: 112000"
       ]
      },
      {
       "output_type": "stream",
       "stream": "stdout",
       "text": [
        "\n",
        "Positions processed: 114000"
       ]
      },
      {
       "output_type": "stream",
       "stream": "stdout",
       "text": [
        "\n",
        "Positions processed: 116000"
       ]
      },
      {
       "output_type": "stream",
       "stream": "stdout",
       "text": [
        "\n",
        "Positions processed: 118000"
       ]
      },
      {
       "output_type": "stream",
       "stream": "stdout",
       "text": [
        "\n",
        "Positions processed: 120000"
       ]
      },
      {
       "output_type": "stream",
       "stream": "stdout",
       "text": [
        "\n",
        "Positions processed: 122000"
       ]
      },
      {
       "output_type": "stream",
       "stream": "stdout",
       "text": [
        "\n",
        "Positions processed: 124000"
       ]
      },
      {
       "output_type": "stream",
       "stream": "stdout",
       "text": [
        "\n",
        "Positions processed: 126000"
       ]
      },
      {
       "output_type": "stream",
       "stream": "stdout",
       "text": [
        "\n",
        "Positions processed: 128000"
       ]
      },
      {
       "output_type": "stream",
       "stream": "stdout",
       "text": [
        "\n",
        "Positions processed: 130000"
       ]
      },
      {
       "output_type": "stream",
       "stream": "stdout",
       "text": [
        "\n",
        "Positions processed: 132000"
       ]
      },
      {
       "output_type": "stream",
       "stream": "stdout",
       "text": [
        "\n",
        "Positions processed: 134000"
       ]
      },
      {
       "output_type": "stream",
       "stream": "stdout",
       "text": [
        "\n",
        "Positions processed: 136000"
       ]
      },
      {
       "output_type": "stream",
       "stream": "stdout",
       "text": [
        "\n",
        "Positions processed: 138000"
       ]
      },
      {
       "output_type": "stream",
       "stream": "stdout",
       "text": [
        "\n",
        "Positions processed: 140000"
       ]
      },
      {
       "output_type": "stream",
       "stream": "stdout",
       "text": [
        "\n",
        "Positions processed: 142000"
       ]
      },
      {
       "output_type": "stream",
       "stream": "stdout",
       "text": [
        "\n",
        "Positions processed: 144000"
       ]
      },
      {
       "output_type": "stream",
       "stream": "stdout",
       "text": [
        "\n",
        "Positions processed: 146000"
       ]
      },
      {
       "output_type": "stream",
       "stream": "stdout",
       "text": [
        "\n",
        "Positions processed: 148000"
       ]
      },
      {
       "output_type": "stream",
       "stream": "stdout",
       "text": [
        "\n",
        "Positions processed: 150000"
       ]
      },
      {
       "output_type": "stream",
       "stream": "stdout",
       "text": [
        "\n",
        "Positions processed: 152000"
       ]
      },
      {
       "output_type": "stream",
       "stream": "stdout",
       "text": [
        "\n",
        "Positions processed: 154000"
       ]
      },
      {
       "output_type": "stream",
       "stream": "stdout",
       "text": [
        "\n",
        "Positions processed: 156000"
       ]
      },
      {
       "output_type": "stream",
       "stream": "stdout",
       "text": [
        "\n",
        "Positions processed: 158000"
       ]
      },
      {
       "output_type": "stream",
       "stream": "stdout",
       "text": [
        "\n",
        "Positions processed: 160000"
       ]
      },
      {
       "output_type": "stream",
       "stream": "stdout",
       "text": [
        "\n",
        "Positions processed: 162000"
       ]
      },
      {
       "output_type": "stream",
       "stream": "stdout",
       "text": [
        "\n",
        "Positions processed: 164000"
       ]
      },
      {
       "output_type": "stream",
       "stream": "stdout",
       "text": [
        "\n",
        "Positions processed: 166000"
       ]
      },
      {
       "output_type": "stream",
       "stream": "stdout",
       "text": [
        "\n",
        "Positions processed: 168000"
       ]
      },
      {
       "output_type": "stream",
       "stream": "stdout",
       "text": [
        "\n",
        "Positions processed: 170000"
       ]
      },
      {
       "output_type": "stream",
       "stream": "stdout",
       "text": [
        "\n",
        "Positions processed: 172000"
       ]
      },
      {
       "output_type": "stream",
       "stream": "stdout",
       "text": [
        "\n",
        "Positions processed: 174000"
       ]
      },
      {
       "output_type": "stream",
       "stream": "stdout",
       "text": [
        "\n",
        "Positions processed: 176000"
       ]
      },
      {
       "output_type": "stream",
       "stream": "stdout",
       "text": [
        "\n",
        "Positions processed: 178000"
       ]
      },
      {
       "output_type": "stream",
       "stream": "stdout",
       "text": [
        "\n",
        "Positions processed: 180000"
       ]
      },
      {
       "output_type": "stream",
       "stream": "stdout",
       "text": [
        "\n",
        "Positions processed: 182000"
       ]
      },
      {
       "output_type": "stream",
       "stream": "stdout",
       "text": [
        "\n",
        "Positions processed: 184000"
       ]
      },
      {
       "output_type": "stream",
       "stream": "stdout",
       "text": [
        "\n",
        "Positions processed: 186000"
       ]
      },
      {
       "output_type": "stream",
       "stream": "stdout",
       "text": [
        "\n",
        "Positions processed: 188000"
       ]
      },
      {
       "output_type": "stream",
       "stream": "stdout",
       "text": [
        "\n",
        "Positions processed: 190000"
       ]
      },
      {
       "output_type": "stream",
       "stream": "stdout",
       "text": [
        "\n",
        "Positions processed: 192000"
       ]
      },
      {
       "output_type": "stream",
       "stream": "stdout",
       "text": [
        "\n",
        "Positions processed: 194000"
       ]
      },
      {
       "output_type": "stream",
       "stream": "stdout",
       "text": [
        "\n",
        "Positions processed: 196000"
       ]
      },
      {
       "output_type": "stream",
       "stream": "stdout",
       "text": [
        "\n",
        "Positions processed: 198000"
       ]
      },
      {
       "output_type": "stream",
       "stream": "stdout",
       "text": [
        "\n",
        "Positions processed: 200000"
       ]
      },
      {
       "output_type": "stream",
       "stream": "stdout",
       "text": [
        "\n",
        "Positions processed: 202000"
       ]
      },
      {
       "output_type": "stream",
       "stream": "stdout",
       "text": [
        "\n",
        "Positions processed: 204000"
       ]
      },
      {
       "output_type": "stream",
       "stream": "stdout",
       "text": [
        "\n",
        "Positions processed: 206000"
       ]
      },
      {
       "output_type": "stream",
       "stream": "stdout",
       "text": [
        "\n",
        "Positions processed: 208000"
       ]
      },
      {
       "output_type": "stream",
       "stream": "stdout",
       "text": [
        "\n",
        "Positions processed: 210000"
       ]
      },
      {
       "output_type": "stream",
       "stream": "stdout",
       "text": [
        "\n",
        "Positions processed: 212000"
       ]
      },
      {
       "output_type": "stream",
       "stream": "stdout",
       "text": [
        "\n",
        "Positions processed: 214000"
       ]
      },
      {
       "output_type": "stream",
       "stream": "stdout",
       "text": [
        "\n",
        "Positions processed: 216000"
       ]
      },
      {
       "output_type": "stream",
       "stream": "stdout",
       "text": [
        "\n",
        "Positions processed: 218000"
       ]
      },
      {
       "output_type": "stream",
       "stream": "stdout",
       "text": [
        "\n",
        "Positions processed: 220000"
       ]
      },
      {
       "output_type": "stream",
       "stream": "stdout",
       "text": [
        "\n",
        "Positions processed: 222000"
       ]
      },
      {
       "output_type": "stream",
       "stream": "stdout",
       "text": [
        "\n",
        "Positions processed: 224000"
       ]
      },
      {
       "output_type": "stream",
       "stream": "stdout",
       "text": [
        "\n",
        "Positions processed: 226000"
       ]
      },
      {
       "output_type": "stream",
       "stream": "stdout",
       "text": [
        "\n",
        "Positions processed: 228000"
       ]
      },
      {
       "output_type": "stream",
       "stream": "stdout",
       "text": [
        "\n",
        "Positions processed: 230000"
       ]
      },
      {
       "output_type": "stream",
       "stream": "stdout",
       "text": [
        "\n",
        "Positions processed: 232000"
       ]
      },
      {
       "output_type": "stream",
       "stream": "stdout",
       "text": [
        "\n",
        "Positions processed: 234000"
       ]
      },
      {
       "output_type": "stream",
       "stream": "stdout",
       "text": [
        "\n",
        "Positions processed: 236000"
       ]
      },
      {
       "output_type": "stream",
       "stream": "stdout",
       "text": [
        "\n",
        "Positions processed: 238000"
       ]
      },
      {
       "output_type": "stream",
       "stream": "stdout",
       "text": [
        "\n",
        "Positions processed: 240000"
       ]
      },
      {
       "output_type": "stream",
       "stream": "stdout",
       "text": [
        "\n",
        "Positions processed: 242000"
       ]
      },
      {
       "output_type": "stream",
       "stream": "stdout",
       "text": [
        "\n",
        "Positions processed: 244000"
       ]
      },
      {
       "output_type": "stream",
       "stream": "stdout",
       "text": [
        "\n",
        "Positions processed: 246000"
       ]
      },
      {
       "output_type": "stream",
       "stream": "stdout",
       "text": [
        "\n",
        "Positions processed: 248000"
       ]
      },
      {
       "output_type": "stream",
       "stream": "stdout",
       "text": [
        "\n",
        "Positions processed: 250000"
       ]
      },
      {
       "output_type": "stream",
       "stream": "stdout",
       "text": [
        "\n",
        "Positions processed: 252000"
       ]
      },
      {
       "output_type": "stream",
       "stream": "stdout",
       "text": [
        "\n",
        "Positions processed: 254000"
       ]
      },
      {
       "output_type": "stream",
       "stream": "stdout",
       "text": [
        "\n",
        "Positions processed: 256000"
       ]
      },
      {
       "output_type": "stream",
       "stream": "stdout",
       "text": [
        "\n",
        "Positions processed: 258000"
       ]
      },
      {
       "output_type": "stream",
       "stream": "stdout",
       "text": [
        "\n",
        "Positions processed: 260000"
       ]
      },
      {
       "output_type": "stream",
       "stream": "stdout",
       "text": [
        "\n",
        "Positions processed: 262000"
       ]
      },
      {
       "output_type": "stream",
       "stream": "stdout",
       "text": [
        "\n",
        "Positions processed: 264000"
       ]
      },
      {
       "output_type": "stream",
       "stream": "stdout",
       "text": [
        "\n",
        "Positions processed: 266000"
       ]
      },
      {
       "output_type": "stream",
       "stream": "stdout",
       "text": [
        "\n",
        "Positions processed: 268000"
       ]
      },
      {
       "output_type": "stream",
       "stream": "stdout",
       "text": [
        "\n",
        "Positions processed: 270000"
       ]
      },
      {
       "output_type": "stream",
       "stream": "stdout",
       "text": [
        "\n",
        "Positions processed: 272000"
       ]
      },
      {
       "output_type": "stream",
       "stream": "stdout",
       "text": [
        "\n",
        "Positions processed: 274000"
       ]
      },
      {
       "output_type": "stream",
       "stream": "stdout",
       "text": [
        "\n",
        "Positions processed: 276000"
       ]
      },
      {
       "output_type": "stream",
       "stream": "stdout",
       "text": [
        "\n",
        "Positions processed: 278000"
       ]
      },
      {
       "output_type": "stream",
       "stream": "stdout",
       "text": [
        "\n",
        "Positions processed: 280000"
       ]
      },
      {
       "output_type": "stream",
       "stream": "stdout",
       "text": [
        "\n",
        "Positions processed: 282000"
       ]
      },
      {
       "output_type": "stream",
       "stream": "stdout",
       "text": [
        "\n",
        "Positions processed: 284000"
       ]
      },
      {
       "output_type": "stream",
       "stream": "stdout",
       "text": [
        "\n",
        "Positions processed: 286000"
       ]
      },
      {
       "output_type": "stream",
       "stream": "stdout",
       "text": [
        "\n",
        "Positions processed: 288000"
       ]
      },
      {
       "output_type": "stream",
       "stream": "stdout",
       "text": [
        "\n",
        "Positions processed: 290000"
       ]
      },
      {
       "output_type": "stream",
       "stream": "stdout",
       "text": [
        "\n",
        "Positions processed: 292000"
       ]
      },
      {
       "output_type": "stream",
       "stream": "stdout",
       "text": [
        "\n",
        "Positions processed: 294000"
       ]
      },
      {
       "output_type": "stream",
       "stream": "stdout",
       "text": [
        "\n",
        "Positions processed: 296000"
       ]
      },
      {
       "output_type": "stream",
       "stream": "stdout",
       "text": [
        "\n",
        "Positions processed: 298000"
       ]
      },
      {
       "output_type": "stream",
       "stream": "stdout",
       "text": [
        "\n",
        "Positions processed: 300000"
       ]
      },
      {
       "output_type": "stream",
       "stream": "stdout",
       "text": [
        "\n",
        "Positions processed: 302000"
       ]
      },
      {
       "output_type": "stream",
       "stream": "stdout",
       "text": [
        "\n",
        "Positions processed: 304000"
       ]
      },
      {
       "output_type": "stream",
       "stream": "stdout",
       "text": [
        "\n",
        "Positions processed: 306000"
       ]
      },
      {
       "output_type": "stream",
       "stream": "stdout",
       "text": [
        "\n",
        "Positions processed: 308000"
       ]
      },
      {
       "output_type": "stream",
       "stream": "stdout",
       "text": [
        "\n",
        "Positions processed: 310000"
       ]
      },
      {
       "output_type": "stream",
       "stream": "stdout",
       "text": [
        "\n",
        "Positions processed: 312000"
       ]
      },
      {
       "output_type": "stream",
       "stream": "stdout",
       "text": [
        "\n",
        "Positions processed: 314000"
       ]
      },
      {
       "output_type": "stream",
       "stream": "stdout",
       "text": [
        "\n",
        "Positions processed: 316000"
       ]
      },
      {
       "output_type": "stream",
       "stream": "stdout",
       "text": [
        "\n",
        "Positions processed: 318000"
       ]
      },
      {
       "output_type": "stream",
       "stream": "stdout",
       "text": [
        "\n",
        "Positions processed: 320000"
       ]
      },
      {
       "output_type": "stream",
       "stream": "stdout",
       "text": [
        "\n",
        "Positions processed: 322000"
       ]
      },
      {
       "output_type": "stream",
       "stream": "stdout",
       "text": [
        "\n",
        "Positions processed: 324000"
       ]
      },
      {
       "output_type": "stream",
       "stream": "stdout",
       "text": [
        "\n",
        "Positions processed: 326000"
       ]
      },
      {
       "output_type": "stream",
       "stream": "stdout",
       "text": [
        "\n",
        "Positions processed: 328000"
       ]
      },
      {
       "output_type": "stream",
       "stream": "stdout",
       "text": [
        "\n",
        "Positions processed: 330000"
       ]
      },
      {
       "output_type": "stream",
       "stream": "stdout",
       "text": [
        "\n",
        "Positions processed: 332000"
       ]
      },
      {
       "output_type": "stream",
       "stream": "stdout",
       "text": [
        "\n",
        "Positions processed: 334000"
       ]
      },
      {
       "output_type": "stream",
       "stream": "stdout",
       "text": [
        "\n",
        "Positions processed: 336000"
       ]
      },
      {
       "output_type": "stream",
       "stream": "stdout",
       "text": [
        "\n",
        "Positions processed: 338000"
       ]
      },
      {
       "output_type": "stream",
       "stream": "stdout",
       "text": [
        "\n",
        "Positions processed: 340000"
       ]
      },
      {
       "output_type": "stream",
       "stream": "stdout",
       "text": [
        "\n",
        "Positions processed: 342000"
       ]
      },
      {
       "output_type": "stream",
       "stream": "stdout",
       "text": [
        "\n",
        "Positions processed: 344000"
       ]
      },
      {
       "output_type": "stream",
       "stream": "stdout",
       "text": [
        "\n",
        "Positions processed: 346000"
       ]
      },
      {
       "output_type": "stream",
       "stream": "stdout",
       "text": [
        "\n",
        "Positions processed: 348000"
       ]
      },
      {
       "output_type": "stream",
       "stream": "stdout",
       "text": [
        "\n",
        "Positions processed: 350000"
       ]
      },
      {
       "output_type": "stream",
       "stream": "stdout",
       "text": [
        "\n",
        "Positions processed: 352000"
       ]
      },
      {
       "output_type": "stream",
       "stream": "stdout",
       "text": [
        "\n",
        "Positions processed: 354000"
       ]
      },
      {
       "output_type": "stream",
       "stream": "stdout",
       "text": [
        "\n",
        "Positions processed: 356000"
       ]
      },
      {
       "output_type": "stream",
       "stream": "stdout",
       "text": [
        "\n",
        "Positions processed: 358000"
       ]
      },
      {
       "output_type": "stream",
       "stream": "stdout",
       "text": [
        "\n",
        "Positions processed: 360000"
       ]
      },
      {
       "output_type": "stream",
       "stream": "stdout",
       "text": [
        "\n",
        "Positions processed: 362000"
       ]
      },
      {
       "output_type": "stream",
       "stream": "stdout",
       "text": [
        "\n",
        "Positions processed: 364000"
       ]
      },
      {
       "output_type": "stream",
       "stream": "stdout",
       "text": [
        "\n",
        "Positions processed: 366000"
       ]
      },
      {
       "output_type": "stream",
       "stream": "stdout",
       "text": [
        "\n",
        "Positions processed: 368000"
       ]
      },
      {
       "output_type": "stream",
       "stream": "stdout",
       "text": [
        "\n",
        "Positions processed: 370000"
       ]
      },
      {
       "output_type": "stream",
       "stream": "stdout",
       "text": [
        "\n",
        "Positions processed: 372000"
       ]
      },
      {
       "output_type": "stream",
       "stream": "stdout",
       "text": [
        "\n",
        "Positions processed: 374000"
       ]
      },
      {
       "output_type": "stream",
       "stream": "stdout",
       "text": [
        "\n",
        "Positions processed: 376000"
       ]
      },
      {
       "output_type": "stream",
       "stream": "stdout",
       "text": [
        "\n"
       ]
      }
     ],
     "prompt_number": 15
    },
    {
     "cell_type": "code",
     "collapsed": false,
     "input": [
      "for out_file in out_files:\n",
      "    out_file.close()"
     ],
     "language": "python",
     "metadata": {},
     "outputs": [],
     "prompt_number": 16
    },
    {
     "cell_type": "code",
     "collapsed": false,
     "input": [
      "print debug_printer(records_to_process)"
     ],
     "language": "python",
     "metadata": {},
     "outputs": [
      {
       "output_type": "stream",
       "stream": "stdout",
       "text": [
        "[('10', 518366), False, False]\n"
       ]
      }
     ],
     "prompt_number": 17
    },
    {
     "cell_type": "code",
     "collapsed": false,
     "input": [],
     "language": "python",
     "metadata": {},
     "outputs": [],
     "prompt_number": 18
    }
   ],
   "metadata": {}
  }
 ]
}