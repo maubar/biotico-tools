{
 "cells": [
  {
   "cell_type": "code",
   "execution_count": 1,
   "metadata": {
    "collapsed": true
   },
   "outputs": [],
   "source": [
    "import pandas as pd\n",
    "import numpy as np\n",
    "import itertools"
   ]
  },
  {
   "cell_type": "code",
   "execution_count": 2,
   "metadata": {
    "collapsed": false
   },
   "outputs": [
    {
     "name": "stdout",
     "output_type": "stream",
     "text": [
      "August 2015_2.pdf   Exercise_3.ipynb    artistToGaguiel.csv\r\n"
     ]
    }
   ],
   "source": [
    "!ls"
   ]
  },
  {
   "cell_type": "code",
   "execution_count": 3,
   "metadata": {
    "collapsed": false
   },
   "outputs": [
    {
     "data": {
      "text/html": [
       "<div>\n",
       "<table border=\"1\" class=\"dataframe\">\n",
       "  <thead>\n",
       "    <tr style=\"text-align: right;\">\n",
       "      <th></th>\n",
       "      <th>user</th>\n",
       "      <th>artist</th>\n",
       "      <th>freq</th>\n",
       "    </tr>\n",
       "  </thead>\n",
       "  <tbody>\n",
       "    <tr>\n",
       "      <th>0</th>\n",
       "      <td>00000c289a1829a808ac09c00daf10bc3c4e223b</td>\n",
       "      <td>betty blowtorch</td>\n",
       "      <td>2137</td>\n",
       "    </tr>\n",
       "    <tr>\n",
       "      <th>1</th>\n",
       "      <td>00000c289a1829a808ac09c00daf10bc3c4e223b</td>\n",
       "      <td>die Ärzte</td>\n",
       "      <td>1099</td>\n",
       "    </tr>\n",
       "    <tr>\n",
       "      <th>2</th>\n",
       "      <td>00000c289a1829a808ac09c00daf10bc3c4e223b</td>\n",
       "      <td>melissa etheridge</td>\n",
       "      <td>897</td>\n",
       "    </tr>\n",
       "    <tr>\n",
       "      <th>3</th>\n",
       "      <td>00000c289a1829a808ac09c00daf10bc3c4e223b</td>\n",
       "      <td>elvenking</td>\n",
       "      <td>717</td>\n",
       "    </tr>\n",
       "    <tr>\n",
       "      <th>4</th>\n",
       "      <td>00000c289a1829a808ac09c00daf10bc3c4e223b</td>\n",
       "      <td>juliette &amp; the licks</td>\n",
       "      <td>706</td>\n",
       "    </tr>\n",
       "  </tbody>\n",
       "</table>\n",
       "</div>"
      ],
      "text/plain": [
       "                                       user                artist  freq\n",
       "0  00000c289a1829a808ac09c00daf10bc3c4e223b       betty blowtorch  2137\n",
       "1  00000c289a1829a808ac09c00daf10bc3c4e223b             die Ärzte  1099\n",
       "2  00000c289a1829a808ac09c00daf10bc3c4e223b     melissa etheridge   897\n",
       "3  00000c289a1829a808ac09c00daf10bc3c4e223b             elvenking   717\n",
       "4  00000c289a1829a808ac09c00daf10bc3c4e223b  juliette & the licks   706"
      ]
     },
     "execution_count": 3,
     "metadata": {},
     "output_type": "execute_result"
    }
   ],
   "source": [
    "#Load file into rows of User,Artist,Freq\n",
    "rows = []\n",
    "with open(\"artistToGaguiel.csv\") as fh:\n",
    "    for line in fh:\n",
    "        user,artists,freqs = line.rstrip(\"\\n\").split(\"\\t\")\n",
    "        user = user.strip('\"')\n",
    "        artists = artists.strip('\"').split(\";\")\n",
    "        freqs = freqs.strip('\"').split(\";\")\n",
    "        for art,freq in zip(artists,freqs):\n",
    "            rows.append( (user,art,freq) )\n",
    "            \n",
    "#Transform data into a dataframe\n",
    "df = pd.DataFrame(rows,columns=[\"user\",\"artist\",\"freq\"])\n",
    "#Verify data was loaded properly\n",
    "df.head()"
   ]
  },
  {
   "cell_type": "markdown",
   "metadata": {},
   "source": [
    "###Question 1: top 10 users listening to the beatles"
   ]
  },
  {
   "cell_type": "code",
   "execution_count": 4,
   "metadata": {
    "collapsed": false
   },
   "outputs": [
    {
     "data": {
      "text/html": [
       "<div>\n",
       "<table border=\"1\" class=\"dataframe\">\n",
       "  <thead>\n",
       "    <tr style=\"text-align: right;\">\n",
       "      <th></th>\n",
       "      <th>user</th>\n",
       "      <th>artist</th>\n",
       "      <th>freq</th>\n",
       "    </tr>\n",
       "  </thead>\n",
       "  <tbody>\n",
       "    <tr>\n",
       "      <th>505035</th>\n",
       "      <td>077621e8f30383c871cb7ff31c99e20478e63fac</td>\n",
       "      <td>the beatles</td>\n",
       "      <td>998</td>\n",
       "    </tr>\n",
       "    <tr>\n",
       "      <th>682765</th>\n",
       "      <td>0a18b5594d8aa92e6927ce005945eca7db8deb7f</td>\n",
       "      <td>the beatles</td>\n",
       "      <td>997</td>\n",
       "    </tr>\n",
       "    <tr>\n",
       "      <th>261098</th>\n",
       "      <td>03e747bacc61d5dcce576a43533eb7a7138c8f0f</td>\n",
       "      <td>the beatles</td>\n",
       "      <td>996</td>\n",
       "    </tr>\n",
       "    <tr>\n",
       "      <th>847495</th>\n",
       "      <td>0c91bd8ce6160cc49661f4582ac465d36ff9034d</td>\n",
       "      <td>the beatles</td>\n",
       "      <td>995</td>\n",
       "    </tr>\n",
       "    <tr>\n",
       "      <th>280284</th>\n",
       "      <td>0434d80d4541e0c82a9c441c9b3c23b105d8f79e</td>\n",
       "      <td>the beatles</td>\n",
       "      <td>992</td>\n",
       "    </tr>\n",
       "    <tr>\n",
       "      <th>607344</th>\n",
       "      <td>08fe489cc740366bbc693b888ac4ea1ddbaf6382</td>\n",
       "      <td>the beatles</td>\n",
       "      <td>991</td>\n",
       "    </tr>\n",
       "    <tr>\n",
       "      <th>966585</th>\n",
       "      <td>0e4c00f3b963cc1b37745dbf5a1dde553c7235b5</td>\n",
       "      <td>the beatles</td>\n",
       "      <td>99</td>\n",
       "    </tr>\n",
       "    <tr>\n",
       "      <th>66891</th>\n",
       "      <td>00f47faf418dfaade4bb0abb4fc86e2a827cd76b</td>\n",
       "      <td>the beatles</td>\n",
       "      <td>99</td>\n",
       "    </tr>\n",
       "    <tr>\n",
       "      <th>261948</th>\n",
       "      <td>03eb8a9e3b1100945e38d611bd76113dd1e9642e</td>\n",
       "      <td>the beatles</td>\n",
       "      <td>99</td>\n",
       "    </tr>\n",
       "    <tr>\n",
       "      <th>76458</th>\n",
       "      <td>0119d17a6fed9a662bea8f0f38a279729fc0a5b3</td>\n",
       "      <td>the beatles</td>\n",
       "      <td>99</td>\n",
       "    </tr>\n",
       "  </tbody>\n",
       "</table>\n",
       "</div>"
      ],
      "text/plain": [
       "                                            user       artist freq\n",
       "505035  077621e8f30383c871cb7ff31c99e20478e63fac  the beatles  998\n",
       "682765  0a18b5594d8aa92e6927ce005945eca7db8deb7f  the beatles  997\n",
       "261098  03e747bacc61d5dcce576a43533eb7a7138c8f0f  the beatles  996\n",
       "847495  0c91bd8ce6160cc49661f4582ac465d36ff9034d  the beatles  995\n",
       "280284  0434d80d4541e0c82a9c441c9b3c23b105d8f79e  the beatles  992\n",
       "607344  08fe489cc740366bbc693b888ac4ea1ddbaf6382  the beatles  991\n",
       "966585  0e4c00f3b963cc1b37745dbf5a1dde553c7235b5  the beatles   99\n",
       "66891   00f47faf418dfaade4bb0abb4fc86e2a827cd76b  the beatles   99\n",
       "261948  03eb8a9e3b1100945e38d611bd76113dd1e9642e  the beatles   99\n",
       "76458   0119d17a6fed9a662bea8f0f38a279729fc0a5b3  the beatles   99"
      ]
     },
     "execution_count": 4,
     "metadata": {},
     "output_type": "execute_result"
    }
   ],
   "source": [
    "df[df[\"artist\"] == \"the beatles\"].sort(\"freq\",ascending=False).head(10)"
   ]
  },
  {
   "cell_type": "markdown",
   "metadata": {},
   "source": [
    "###Question 2: Most popular band in the dataset"
   ]
  },
  {
   "cell_type": "code",
   "execution_count": 5,
   "metadata": {
    "collapsed": false,
    "scrolled": true
   },
   "outputs": [
    {
     "data": {
      "text/html": [
       "<div>\n",
       "<table border=\"1\" class=\"dataframe\">\n",
       "  <thead>\n",
       "    <tr style=\"text-align: right;\">\n",
       "      <th></th>\n",
       "      <th>freq</th>\n",
       "    </tr>\n",
       "    <tr>\n",
       "      <th>artist</th>\n",
       "      <th></th>\n",
       "    </tr>\n",
       "  </thead>\n",
       "  <tbody>\n",
       "    <tr>\n",
       "      <th>radiohead</th>\n",
       "      <td>4348</td>\n",
       "    </tr>\n",
       "  </tbody>\n",
       "</table>\n",
       "</div>"
      ],
      "text/plain": [
       "           freq\n",
       "artist         \n",
       "radiohead  4348"
      ]
     },
     "execution_count": 5,
     "metadata": {},
     "output_type": "execute_result"
    }
   ],
   "source": [
    "df[[\"artist\",\"freq\"]].groupby(\"artist\",sort=False).count().sort(\"freq\",ascending=False).head(1)"
   ]
  },
  {
   "cell_type": "markdown",
   "metadata": {},
   "source": [
    "###Question 3: Two users with the most bands"
   ]
  },
  {
   "cell_type": "code",
   "execution_count": 6,
   "metadata": {
    "collapsed": false
   },
   "outputs": [
    {
     "data": {
      "text/html": [
       "<div>\n",
       "<table border=\"1\" class=\"dataframe\">\n",
       "  <thead>\n",
       "    <tr style=\"text-align: right;\">\n",
       "      <th></th>\n",
       "      <th>artist</th>\n",
       "    </tr>\n",
       "    <tr>\n",
       "      <th>user</th>\n",
       "      <th></th>\n",
       "    </tr>\n",
       "  </thead>\n",
       "  <tbody>\n",
       "    <tr>\n",
       "      <th>0a7c493718902fe4590cad2f76db9abb6dce6fae</th>\n",
       "      <td>131</td>\n",
       "    </tr>\n",
       "    <tr>\n",
       "      <th>0701715a7c6c6bc35036ad5fa7d89ddfe6691c95</th>\n",
       "      <td>114</td>\n",
       "    </tr>\n",
       "  </tbody>\n",
       "</table>\n",
       "</div>"
      ],
      "text/plain": [
       "                                          artist\n",
       "user                                            \n",
       "0a7c493718902fe4590cad2f76db9abb6dce6fae     131\n",
       "0701715a7c6c6bc35036ad5fa7d89ddfe6691c95     114"
      ]
     },
     "execution_count": 6,
     "metadata": {},
     "output_type": "execute_result"
    }
   ],
   "source": [
    "df[[\"user\",\"artist\"]].groupby(\"user\").count().sort(\"artist\",ascending=False).head(2)"
   ]
  }
 ],
 "metadata": {
  "kernelspec": {
   "display_name": "Python 2",
   "language": "python",
   "name": "python2"
  },
  "language_info": {
   "codemirror_mode": {
    "name": "ipython",
    "version": 2
   },
   "file_extension": ".py",
   "mimetype": "text/x-python",
   "name": "python",
   "nbconvert_exporter": "python",
   "pygments_lexer": "ipython2",
   "version": "2.7.10"
  }
 },
 "nbformat": 4,
 "nbformat_minor": 0
}
