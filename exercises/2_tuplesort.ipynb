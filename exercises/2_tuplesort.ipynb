{
 "cells": [
  {
   "cell_type": "code",
   "execution_count": 1,
   "metadata": {
    "collapsed": true
   },
   "outputs": [],
   "source": [
    "#List of pairs from the exercise\n",
    "pairs1 = [ (91, 102), (44, 55), (89, 90) , (56, 88), (102, 150) ] \n",
    "pairs2 = [ (34, 44), (45, 34), (22, 55), (88, 99), (102, 33) ]"
   ]
  },
  {
   "cell_type": "markdown",
   "metadata": {},
   "source": [
    "##Helper functions"
   ]
  },
  {
   "cell_type": "code",
   "execution_count": 2,
   "metadata": {
    "collapsed": true
   },
   "outputs": [],
   "source": [
    "\"\"\"\n",
    "Euclidean distance:\n",
    "  sqrt ( sum_i |xi - yi| )\n",
    "\n",
    "However, for  sorting purposes, the sqrt root will not affect\n",
    "the ordering as it is a monotonous function, so we can skip it\n",
    "\"\"\"\n",
    "def pair_distance(x,y):\n",
    "    return (x[0] - y[0])**2 + (x[1] - y[1])**2"
   ]
  },
  {
   "cell_type": "code",
   "execution_count": 3,
   "metadata": {
    "collapsed": false
   },
   "outputs": [],
   "source": [
    "\"\"\"\n",
    "Classical insertion sort algorithm\n",
    "\n",
    "Includes a parameter key, which takes a function that will be applied \n",
    "to the values for the comparisons\n",
    "\"\"\"\n",
    "\n",
    "def insertion_sort(vec,key=lambda x:x):\n",
    "    for i in range(len(vec)):\n",
    "        j = i\n",
    "        while j > 0 and (key(vec[j-1]) > key(vec[j])):\n",
    "            tmp = vec[j-1]\n",
    "            vec[j-1] = vec[j]\n",
    "            vec[j] = tmp\n",
    "            j -= 1\n",
    "    return vec"
   ]
  },
  {
   "cell_type": "markdown",
   "metadata": {},
   "source": [
    "## Sorting strategy 1"
   ]
  },
  {
   "cell_type": "code",
   "execution_count": 4,
   "metadata": {
    "collapsed": true
   },
   "outputs": [],
   "source": [
    "\"\"\"\n",
    "Sort the pairs, by defining the 'value' of the pair as the\n",
    "Euclidean distance from the point to the origin (0,0)\n",
    "\n",
    "Easily generalizable to use any distance measure\n",
    "\"\"\"\n",
    "def tuple_sort_1( pair_list ):\n",
    "    #Create list of distances from each point to the origin\n",
    "    sorted_list = insertion_sort(pair_list,key=lambda x:pair_distance(x,(0,0))) \n",
    "    return sorted_list"
   ]
  },
  {
   "cell_type": "code",
   "execution_count": 5,
   "metadata": {
    "collapsed": false
   },
   "outputs": [
    {
     "name": "stdout",
     "output_type": "stream",
     "text": [
      "Sorted list [(44, 55), (56, 88), (89, 90), (91, 102), (102, 150)]\n",
      "Corresponding distances from each point to origin [4961, 10880, 16021, 18685, 32904]\n",
      "\n",
      "[(34, 44), (45, 34), (22, 55), (102, 33), (88, 99)]\n",
      "[3092, 3181, 3509, 11493, 17545]\n"
     ]
    }
   ],
   "source": [
    "sorted_p1 = tuple_sort_1(pairs1)\n",
    "sorted_p2 = tuple_sort_1(pairs2)\n",
    "\n",
    "print \"Sorted list {}\".format(sorted_p1)\n",
    "print \"Corresponding distances from each point to origin {}\".format(map(lambda x: pair_distance(x,(0,0)),sorted_p1))\n",
    "print\n",
    "print sorted_p2\n",
    "print map(lambda x: pair_distance(x,(0,0)),sorted_p2)"
   ]
  },
  {
   "cell_type": "markdown",
   "metadata": {},
   "source": [
    "## Sorting strategy # 2"
   ]
  },
  {
   "cell_type": "code",
   "execution_count": 6,
   "metadata": {
    "collapsed": false
   },
   "outputs": [],
   "source": [
    "from itertools import permutations\n",
    "\n",
    "def hamiltonian_path_len(pair_list):\n",
    "    path_len = 0;\n",
    "    for idx in range(len(pair_list)-1):\n",
    "        path_len += pair_distance(pair_list[idx],pair_list[idx+1])\n",
    "    return path_len\n",
    "\n",
    "\"\"\"\n",
    "Tuple sorting version 2\n",
    "\n",
    "Define an ordering of the pairs as the order in which the points\n",
    "would be followed in the shortest Hamiltonian path starting from\n",
    "the origin (0,0) and passing through all points in the list\n",
    "\n",
    "Possibly not best solution, as multiple solutions might exist. \n",
    "With no additional info, it is hard to know whether sortings could be\n",
    "considered \"equivalent\", or whether only one unique solution should exist\n",
    "\"\"\"\n",
    "def tuple_sort_2(pair_list):\n",
    "    shortest_path = None\n",
    "    min_len = float('inf')\n",
    "    # Try all (bruteforce) possible paths\n",
    "    # Shortest hamiltonian path is NP complete\n",
    "    # For n=5 is still solvable like this\n",
    "    for possible_path in permutations(pair_list):\n",
    "        #Calculate length of the hamiltonian path starting at the origin\n",
    "        current_len =  hamiltonian_path_len( ((0,0),) + possible_path )\n",
    "        #If current path is shorter than all the rest, keep as putative shortest\n",
    "        if current_len < min_len:\n",
    "            min_len = current_len\n",
    "            shortest_path = possible_path\n",
    "\n",
    "    return shortest_path, min_len"
   ]
  },
  {
   "cell_type": "code",
   "execution_count": 7,
   "metadata": {
    "collapsed": false
   },
   "outputs": [
    {
     "name": "stdout",
     "output_type": "stream",
     "text": [
      "Sorted list 1 : ((44, 55), (56, 88), (89, 90), (91, 102), (102, 150))  with distance 9860 \n",
      "\n",
      "Sorted list 2: ((22, 55), (34, 44), (45, 34), (102, 33), (88, 99))  with distance 11797 \n"
     ]
    }
   ],
   "source": [
    "sorted2_p1 = tuple_sort_2(pairs1)\n",
    "sorted2_p2 = tuple_sort_2(pairs2)\n",
    "\n",
    "print \"Sorted list 1 : {}  with distance {} \".format(*sorted2_p1)\n",
    "print\n",
    "print \"Sorted list 2: {}  with distance {} \".format(*sorted2_p2)"
   ]
  }
 ],
 "metadata": {
  "kernelspec": {
   "display_name": "Python 2",
   "language": "python",
   "name": "python2"
  },
  "language_info": {
   "codemirror_mode": {
    "name": "ipython",
    "version": 2
   },
   "file_extension": ".py",
   "mimetype": "text/x-python",
   "name": "python",
   "nbconvert_exporter": "python",
   "pygments_lexer": "ipython2",
   "version": "2.7.10"
  }
 },
 "nbformat": 4,
 "nbformat_minor": 0
}
