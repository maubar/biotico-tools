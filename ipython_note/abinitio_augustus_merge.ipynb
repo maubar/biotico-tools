{
 "metadata": {
  "name": ""
 },
 "nbformat": 3,
 "nbformat_minor": 0,
 "worksheets": [
  {
   "cells": [
    {
     "cell_type": "code",
     "collapsed": false,
     "input": [
      "from collections import OrderedDict,deque\n",
      "import re"
     ],
     "language": "python",
     "metadata": {},
     "outputs": [],
     "prompt_number": 14
    },
    {
     "cell_type": "code",
     "collapsed": false,
     "input": [
      "abinitio_filename = \"TcIV-X10825.v2.masked-AbInitio.gff\"\n",
      "hints_filename = \"TcIV-X10825.v2.masked-AugustusHints.gff\"\n",
      "merged_filename = \"merged.gff\""
     ],
     "language": "python",
     "metadata": {},
     "outputs": [],
     "prompt_number": 15
    },
    {
     "cell_type": "code",
     "collapsed": false,
     "input": [
      "#GFF column names\n",
      "CTG_ID = 0\n",
      "ENTRY_TYPE = 2 #gene, transcript, start_codon, stop_codon, CDS\n",
      "START_POS = 3\n",
      "STOP_POS = 4\n",
      "ATTRIBS = 8\n",
      "\n",
      "#loaded gff genes\n",
      "GEN_INTERVAL = 0\n",
      "GFF_LINES = 1"
     ],
     "language": "python",
     "metadata": {},
     "outputs": [],
     "prompt_number": 16
    },
    {
     "cell_type": "code",
     "collapsed": false,
     "input": [
      "def extractID(line):\n",
      "    id_match = re.search(r\"ID=(.+?)(;|\\n|$)\",line)\n",
      "    gene_id = id_match.group(1) if id_match else None\n",
      "    return gene_id\n",
      "\n",
      "def extractParent(line):\n",
      "    parent_id_match = re.search(r\"Parent=(.+?)(\\..+?)?(;|\\n|$)\",line)\n",
      "    gene_id = parent_id_match.group(1) if parent_id_match else None\n",
      "    return gene_id"
     ],
     "language": "python",
     "metadata": {},
     "outputs": [],
     "prompt_number": 17
    },
    {
     "cell_type": "code",
     "collapsed": false,
     "input": [
      "def loadgff(filename):\n",
      "    data = OrderedDict()\n",
      "\n",
      "    current_ctg = \"\"\n",
      "    current_gene_id = \"\"\n",
      "    current_gene_info = \"\"\n",
      "    current_interval = None\n",
      "\n",
      "    with open(filename,\"r\") as fh:\n",
      "        for line in fh:\n",
      "            if line[0] != \"#\" : #ignore comment lines\n",
      "                line_fields = line.rstrip(\"\\n\").split(\"\\t\")\n",
      "                \n",
      "                if line_fields[ENTRY_TYPE] == \"gene\":\n",
      "                    if current_gene_id != \"\":\n",
      "                        #Initialize list for each contig\n",
      "                        if current_ctg not in data:\n",
      "                            data[current_ctg] = deque()\n",
      "                        data[current_ctg].append( (current_interval, current_gene_info)   )\n",
      "                    \n",
      "                    current_ctg = line_fields[CTG_ID]\n",
      "                    current_gene_id = extractID(line_fields[ATTRIBS])\n",
      "                    current_interval = ( int(line_fields[START_POS]) , int(line_fields[STOP_POS])  )\n",
      "                    current_gene_info = line\n",
      "                else: #Accumulate under gene\n",
      "                    parent_id = extractParent(line_fields[ATTRIBS])\n",
      "                    assert( current_gene_id == parent_id)\n",
      "                    current_gene_info += line\n",
      "            elif line.rstrip(\"\\n\") == \"# command line:\":\n",
      "                break\n",
      "\n",
      "    return data"
     ],
     "language": "python",
     "metadata": {},
     "outputs": [],
     "prompt_number": 18
    },
    {
     "cell_type": "code",
     "collapsed": false,
     "input": [
      "#load info into memory\n",
      "abinitio_data = loadgff(abinitio_filename)\n",
      "hints_data = loadgff(hints_filename)"
     ],
     "language": "python",
     "metadata": {},
     "outputs": [],
     "prompt_number": 19
    },
    {
     "cell_type": "code",
     "collapsed": false,
     "input": [
      "def fullyContains(container, contained):\n",
      "    return (container[0] <= contained[0]) and (contained[1] <= container[1])\n",
      "\n",
      "def no_overlap(coord1,coord2):\n",
      "    return coord1[1] < coord2[0] or coord2[1] < coord1[0]\n",
      "\n",
      "def pct_overlap(hints,ab_initio):\n",
      "    ovlp_pct = 0\n",
      "    #if interval1 < interval2 but there is overlap\n",
      "    if not(hints[1] < ab_initio[0] or ab_initio[1] < hints[0] ):\n",
      "        ovlp_size = min(hints[1],ab_initio[1]) - max(hints[0],ab_initio[0])\n",
      "        ovlp_pct = (ovlp_size*100)/(hints[1]-hints[0])      \n",
      "    return ovlp_pct"
     ],
     "language": "python",
     "metadata": {},
     "outputs": [],
     "prompt_number": 20
    },
    {
     "cell_type": "code",
     "collapsed": false,
     "input": [
      "def mergeGenes(abinit_genes, hint_genes, merged_fh):\n",
      "    abinit_coord, abinit_gff = abinit_genes.popleft()\n",
      "    hint_coord, hint_gff = hint_genes.popleft()\n",
      "    while abinit_genes and hint_genes:\n",
      "\n",
      "        if no_overlap(hint_coord, abinit_coord):\n",
      "            if hint_coord[0] < abinit_coord[0]:\n",
      "                merged_fh.write(hint_gff)\n",
      "                hint_coord, hint_gff = hint_genes.popleft()\n",
      "            else:\n",
      "                merged_fh.write(abinit_gff)\n",
      "                abinit_coord, abinit_gff = abinit_genes.popleft()\n",
      "\n",
      "        else: #If there is some overlap\n",
      "            if fullyContains(hint_coord,abinit_coord): #If hint interval contains the ab initio\n",
      "                #Keep hints, discard ab initio\n",
      "                merged_fh.write(hint_gff)\n",
      "                abinit_gene = abinit_genes.popleft()\n",
      "                hint_gene = hint_genes.popleft()\n",
      "            \n",
      "            elif fullyContains(abinit_coord,abinit_coord): #If the ab initio interval contains completely the hints interval\n",
      "                #If the hits inteval spans less the 65% of the ab initio interval - Use ab initio\n",
      "                if pct_overlap(abinit_coord,abinit_coord ) > 65:\n",
      "                    merged_fh.write(\"ABI\"+abinit_gff)\n",
      "                else: #If it is covered more than 65% , then keep the hits \n",
      "                    merged_fh.write(hint_gff)\n",
      "                abinit_gene = abinit_genes.popleft()\n",
      "                hint_gene = hint_genes.popleft()\n",
      "                \n",
      "            else: #Overlap is only partial\n",
      "                \n",
      "                #If overlap spans less than 10% of the length of hint, consider them different\n",
      "                if pct_overlap(hint_coord, abinit_coord) <= 10:\n",
      "                    if hint_coord[0] < abinit_coord[0]:\n",
      "                        merged_fh.write(hint_gff)\n",
      "                        hint_coord, hint_gff = hint_genes.popleft()\n",
      "                    else:\n",
      "                        merged_fh.write(\"ABI\"+abinit_coord)\n",
      "                        abinit_coord, abinit_gff = abinit_genes.popleft()\n",
      "                else: #If overlap covers more than 10% of hint, keep only hint\n",
      "                    merged_fh.write(hint_gff)\n",
      "                    hint_coord, hint_gff = hint_genes.popleft()\n",
      "                    abinit_coord, abinit_gff = abinit_genes.popleft()\n",
      "                \n",
      "def writeWholeContig(genes, merged_fh):\n",
      "    while genes:\n",
      "        _,data = genes.pop()\n",
      "        merged_fh.write(data)"
     ],
     "language": "python",
     "metadata": {},
     "outputs": [],
     "prompt_number": 21
    },
    {
     "cell_type": "code",
     "collapsed": false,
     "input": [
      "def extractCtgNumber(ctg_id, ctg_prefix=\"TcIV-\"):\n",
      "    assert ctg_id.startswith(ctg_prefix)\n",
      "    return int(ctg_id[ len(ctg_prefix):] )"
     ],
     "language": "python",
     "metadata": {},
     "outputs": [],
     "prompt_number": 22
    },
    {
     "cell_type": "code",
     "collapsed": false,
     "input": [
      "current_abinitio = None\n",
      "current_hints = None\n",
      "with open(\"merged.gff\",\"w\") as merged_fh:\n",
      "    abinit_ctg, abinit_genes  = abinitio_data.popitem(False)\n",
      "    hint_ctg, hint_genes = hints_data.popitem(False)\n",
      "    while abinitio_data and hints_data:\n",
      "        if abinit_ctg == hint_ctg:\n",
      "            pass\n",
      "            abinit_ctg, abinit_genes  = abinitio_data.popitem(False)\n",
      "            hint_ctg, hint_genes = hints_data.popitem(False)\n",
      "            #mergeGenes(abinit_genes,hint_genes, merged_fh)\n",
      "        elif extractCtgNumber(abinit_ctg) < extractCtgNumber(hint_ctg):\n",
      "            #If there is only ab initio annotatio for this contig\n",
      "            writeWholeContig(abinit_genes, merged_fh)\n",
      "            abinit_ctg, abinit_genes  = abinitio_data.popitem(False)\n",
      "        else:\n",
      "            #If there is only hint annotation for this contig\n",
      "            writeWholeContig(hint_genes, merged_fh)\n",
      "            hint_ctg, hint_genes = hints_data.popitem(False)\n",
      "            \n",
      "    assert (len(abinitio_data) == 0) or (len(hints_data) == 0 )\n",
      "    #Write remaining annotation \n",
      "    while abinitio_data:\n",
      "        writeWholeContig(abinit_genes, merged_fh)\n",
      "        abinit_ctg, abinit_genes  = abinitio_data.popitem(False)\n",
      "    \n",
      "    while hints_data:\n",
      "        writeWholeContig(hint_genes, merged_fh)\n",
      "        hint_ctg, hint_genes = hints_data.popitem(False)"
     ],
     "language": "python",
     "metadata": {},
     "outputs": [],
     "prompt_number": 23
    },
    {
     "cell_type": "code",
     "collapsed": false,
     "input": [
      "x = \"TcIV-99\"\n",
      "extractCtgNumber(x)"
     ],
     "language": "python",
     "metadata": {},
     "outputs": [
      {
       "metadata": {},
       "output_type": "pyout",
       "prompt_number": 11,
       "text": [
        "99"
       ]
      }
     ],
     "prompt_number": 11
    },
    {
     "cell_type": "code",
     "collapsed": false,
     "input": [
      "d = OrderedDict()\n",
      "d[\"a\"]=1\n",
      "d[\"b\"]=2\n",
      "d[\"c\"]=3\n",
      "d[\"d\"]=4\n",
      "for x in d:\n",
      "    print x"
     ],
     "language": "python",
     "metadata": {},
     "outputs": [
      {
       "output_type": "stream",
       "stream": "stdout",
       "text": [
        "a\n",
        "b\n",
        "c\n",
        "d\n"
       ]
      }
     ],
     "prompt_number": 38
    }
   ],
   "metadata": {}
  }
 ]
}