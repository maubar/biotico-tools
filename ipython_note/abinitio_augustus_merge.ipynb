{
 "metadata": {
  "name": ""
 },
 "nbformat": 3,
 "nbformat_minor": 0,
 "worksheets": [
  {
   "cells": [
    {
     "cell_type": "code",
     "collapsed": false,
     "input": [
      "from collections import defaultdict,OrderedDict\n",
      "import re"
     ],
     "language": "python",
     "metadata": {},
     "outputs": [],
     "prompt_number": 1
    },
    {
     "cell_type": "code",
     "collapsed": false,
     "input": [
      "abinitio_filename = \"TcIV-X10825.v2.masked-AbInitio.gff\"\n",
      "hints_filename = \"TcIV-X10825.v2.masked-AugustusHints.gff\"\n",
      "merged_filename = \"merged.gff\""
     ],
     "language": "python",
     "metadata": {},
     "outputs": [],
     "prompt_number": 13
    },
    {
     "cell_type": "code",
     "collapsed": false,
     "input": [
      "CTG_ID = 0\n",
      "ENTRY_TYPE = 2 #gene, transcript, start_codon, stop_codon, CDS\n",
      "START_POS = 3\n",
      "STOP_POS = 4\n",
      "ATTRIBS = 8"
     ],
     "language": "python",
     "metadata": {},
     "outputs": [],
     "prompt_number": 3
    },
    {
     "cell_type": "code",
     "collapsed": false,
     "input": [
      "def extractID(line):\n",
      "    id_match = re.search(r\"ID=(.+?)(;|\\n|$)\",line)\n",
      "    gene_id = id_match.group(1) if id_match else None\n",
      "    return gene_id\n",
      "\n",
      "def extractParent(line):\n",
      "    parent_id_match = re.search(r\"Parent=(.+?)(\\..+?)?(;|\\n|$)\",line)\n",
      "    gene_id = parent_id_match.group(1) if parent_id_match else None\n",
      "    return gene_id"
     ],
     "language": "python",
     "metadata": {},
     "outputs": [],
     "prompt_number": 6
    },
    {
     "cell_type": "code",
     "collapsed": false,
     "input": [
      "#Extract interval information from the abinitio\n",
      "\n",
      "abinitio_data = OrderedDict()\n",
      "\n",
      "current_ctg = \"\"\n",
      "current_gene_id = \"\"\n",
      "current_gene_info = \"\"\n",
      "current_interval = None\n",
      "\n",
      "with open(abinitio_filename,\"r\") as abinitio_fh:\n",
      "    for line in abinitio_fh:\n",
      "        if line[0] != \"#\" : #ignore comment lines\n",
      "            line_fields = line.rstrip(\"\\n\").split(\"\\t\")\n",
      "            \n",
      "            if line_fields[ENTRY_TYPE] == \"gene\":\n",
      "                if current_gene_id != \"\":\n",
      "                    #Initialize list for each contig\n",
      "                    if current_ctg not in abinitio_data:\n",
      "                        abinitio_data[current_ctg] = []\n",
      "                    abinitio_data[current_ctg].append( (current_interval, current_gene_info)   )\n",
      "                \n",
      "                current_ctg = line_fields[CTG_ID]\n",
      "                current_gene_id = extractID(line_fields[ATTRIBS])\n",
      "                current_interval = ( int(line_fields[START_POS]) , int(line_fields[STOP_POS])  )\n",
      "                current_gene_info = line\n",
      "            else: #Accumulate under gene\n",
      "                parent_id = extractParent(line_fields[ATTRIBS])\n",
      "                if current_gene_id != parent_id:\n",
      "                    error = \"Line does not correspond to currently processed gene\\n\"\n",
      "                    error += current_gene_id+ \" vs \"+parent_id\n",
      "                    raise Exception( error)\n",
      "                current_gene_info += line\n",
      "        elif line.rstrip(\"\\n\") == \"# command line:\":\n",
      "            break"
     ],
     "language": "python",
     "metadata": {},
     "outputs": [],
     "prompt_number": 7
    },
    {
     "cell_type": "code",
     "collapsed": false,
     "input": [
      "def fullyContains(interval1, interval2):\n",
      "    value = 0\n",
      "    #if interval1 fully contains interval2\n",
      "    if interval1[0] <= interval2[0] and interval2[1] <= interval1[1]:\n",
      "        value = 1\n",
      "    elif interval2[0] <= interval1[0] and interval1[1] <= interval2[1]:\n",
      "        value = -1\n",
      "    return value\n",
      "\n",
      "def pct_overlap(hints,ab_initio):\n",
      "    ovlp_pct = 0\n",
      "    #if interval1 < interval2 but there is overlap\n",
      "    if not(interval1[1] < interval2[0] or interval2[1] < interval1[0] ):\n",
      "        ovlp_size = float(min(interval1[1],interval2[1]) - max(interval1[0],interval2[0]))\n",
      "        ovlp_pct = min( ovlp_size/(interval1[1]-interval1[0]) , ovlp_size/(interval2[1]-interval2[0]) )      \n",
      "    return ovlp_pct"
     ],
     "language": "python",
     "metadata": {},
     "outputs": [],
     "prompt_number": 20
    },
    {
     "cell_type": "code",
     "collapsed": false,
     "input": [
      "i1 = (0,100)\n",
      "i2 = (50,200)\n",
      "pct_overlap(i1,i2)"
     ],
     "language": "python",
     "metadata": {},
     "outputs": [
      {
       "metadata": {},
       "output_type": "pyout",
       "prompt_number": 24,
       "text": [
        "0.3333333333333333"
       ]
      }
     ],
     "prompt_number": 24
    },
    {
     "cell_type": "code",
     "collapsed": false,
     "input": [
      "with open(hints_filename,\"r\") as hints_fh, open(merged_filename,\"w\") as merged_fh:\n",
      "    for line in hints_fh:\n",
      "        if line[0] != \"#\":\n",
      "            line_fields = line.rstrip(\"\\n\").split(\"\\t\")\n",
      "            if line_fields[ENTRY_TYPE] == \"gene\":\n",
      "                pass\n",
      "            else:\n",
      "                pass\n",
      "        elif line.rstrip(\"\\n\") == \"# command line:\":\n",
      "            break"
     ],
     "language": "python",
     "metadata": {},
     "outputs": []
    }
   ],
   "metadata": {}
  }
 ]
}