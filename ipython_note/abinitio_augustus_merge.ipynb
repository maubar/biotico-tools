{
 "metadata": {
  "name": ""
 },
 "nbformat": 3,
 "nbformat_minor": 0,
 "worksheets": [
  {
   "cells": [
    {
     "cell_type": "code",
     "collapsed": false,
     "input": [
      "from collections import OrderedDict,deque\n",
      "import re"
     ],
     "language": "python",
     "metadata": {},
     "outputs": [],
     "prompt_number": 1
    },
    {
     "cell_type": "code",
     "collapsed": false,
     "input": [
      "abinitio_filename = \"TcIV-X10825.v2.masked-AbInitio.gff\"\n",
      "hints_filename = \"TcIV-X10825.v2.masked-AugustusHints.gff\"\n",
      "merged_filename = \"merged.gff\""
     ],
     "language": "python",
     "metadata": {},
     "outputs": [],
     "prompt_number": 2
    },
    {
     "cell_type": "code",
     "collapsed": false,
     "input": [
      "#GFF column names\n",
      "CTG_ID = 0\n",
      "ENTRY_TYPE = 2 #gene, transcript, start_codon, stop_codon, CDS\n",
      "START_POS = 3\n",
      "STOP_POS = 4\n",
      "ATTRIBS = 8\n",
      "\n",
      "#loaded gff genes\n",
      "GEN_INTERVAL = 0\n",
      "GFF_LINES = 1"
     ],
     "language": "python",
     "metadata": {},
     "outputs": [],
     "prompt_number": 3
    },
    {
     "cell_type": "code",
     "collapsed": false,
     "input": [
      "def extractID(line):\n",
      "    id_match = re.search(r\"ID=(.+?)(;|\\n|$)\",line)\n",
      "    gene_id = id_match.group(1) if id_match else None\n",
      "    return gene_id\n",
      "\n",
      "def extractParent(line):\n",
      "    parent_id_match = re.search(r\"Parent=(.+?)(\\..+?)?(;|\\n|$)\",line)\n",
      "    gene_id = parent_id_match.group(1) if parent_id_match else None\n",
      "    return gene_id"
     ],
     "language": "python",
     "metadata": {},
     "outputs": [],
     "prompt_number": 4
    },
    {
     "cell_type": "code",
     "collapsed": false,
     "input": [
      "def loadgff(filename):\n",
      "    data = OrderedDict()\n",
      "\n",
      "    current_ctg = \"\"\n",
      "    current_gene_id = \"\"\n",
      "    current_gene_info = \"\"\n",
      "    current_interval = None\n",
      "\n",
      "    with open(filename,\"r\") as fh:\n",
      "        for line in fh:\n",
      "            if line[0] != \"#\" : #ignore comment lines\n",
      "                line_fields = line.rstrip(\"\\n\").split(\"\\t\")\n",
      "                \n",
      "                if line_fields[ENTRY_TYPE] == \"gene\":\n",
      "                    if current_gene_id != \"\":\n",
      "                        #Initialize list for each contig\n",
      "                        if current_ctg not in data:\n",
      "                            data[current_ctg] = deque()\n",
      "                        data[current_ctg].append( (current_interval, current_gene_info)   )\n",
      "                    \n",
      "                    current_ctg = line_fields[CTG_ID]\n",
      "                    current_gene_id = extractID(line_fields[ATTRIBS])\n",
      "                    current_interval = ( int(line_fields[START_POS]) , int(line_fields[STOP_POS])  )\n",
      "                    current_gene_info = line\n",
      "                else: #Accumulate under gene\n",
      "                    parent_id = extractParent(line_fields[ATTRIBS])\n",
      "                    assert( current_gene_id == parent_id)\n",
      "                    current_gene_info += line\n",
      "            elif line.rstrip(\"\\n\") == \"# command line:\":\n",
      "                break\n",
      "\n",
      "    return data"
     ],
     "language": "python",
     "metadata": {},
     "outputs": [],
     "prompt_number": 5
    },
    {
     "cell_type": "code",
     "collapsed": false,
     "input": [
      "#load info into memory\n",
      "abinitio_data = loadgff(abinitio_filename)\n",
      "hints_data = loadgff(hints_filename)"
     ],
     "language": "python",
     "metadata": {},
     "outputs": [],
     "prompt_number": 6
    },
    {
     "cell_type": "code",
     "collapsed": false,
     "input": [
      "def fullyContains(container, contained):\n",
      "    return (container[0] <= contained[0]) and (contained[1] <= container[1])\n",
      "\n",
      "def no_overlap(coord1,coord2):\n",
      "    return coord1[1] < coord2[0] or coord2[1] < coord1[0]\n",
      "\n",
      "def pct_overlap(hints,ab_initio):\n",
      "    ovlp_pct = 0\n",
      "    #if interval1 < interval2 but there is overlap\n",
      "    if not(hints[1] < ab_initio[0] or ab_initio[1] < hints[0] ):\n",
      "        ovlp_size = min(hints[1],ab_initio[1]) - max(hints[0],ab_initio[0])\n",
      "        ovlp_pct = (ovlp_size*100)/(hints[1]-hints[0])      \n",
      "    return ovlp_pct"
     ],
     "language": "python",
     "metadata": {},
     "outputs": [],
     "prompt_number": 7
    },
    {
     "cell_type": "code",
     "collapsed": false,
     "input": [
      "def mergeGenes(abinit_genes, hint_genes, merged_fh):\n",
      "    abinit_coord, abinit_gff = abinit_genes.popleft()\n",
      "    hint_coord, hint_gff = hint_genes.popleft()\n",
      "    while abinit_genes and hint_genes:\n",
      "\n",
      "        if no_overlap(hint_coord, abinit_coord):\n",
      "            if hint_coord[0] < abinit_coord[0]:\n",
      "                merged_fh.write(hint_gff)\n",
      "                hint_coord, hint_gff = hint_genes.popleft()\n",
      "            else:\n",
      "                merged_fh.write(abinit_gff)\n",
      "                abinit_coord, abinit_gff = abinit_genes.popleft()\n",
      "\n",
      "        else: #If there is some overlap\n",
      "            if fullyContains(hint_coord,abinit_coord): #If hint interval contains the ab initio\n",
      "                #Keep hints, discard ab initio\n",
      "                merged_fh.write(hint_gff)\n",
      "                abinit_gene = abinit_genes.popleft()\n",
      "                hint_gene = hint_genes.popleft()\n",
      "            \n",
      "            elif fullyContains(abinit_coord,abinit_coord): #If the ab initio interval contains completely the hints interval\n",
      "                #If the hits inteval spans less the 65% of the ab initio interval - Use ab initio\n",
      "                if pct_overlap(abinit_coord,abinit_coord ) > 65:\n",
      "                    merged_fh.write(\"ABI\"+abinit_gff)\n",
      "                else: #If it is covered more than 65% , then keep the hits \n",
      "                    merged_fh.write(hint_gff)\n",
      "                abinit_gene = abinit_genes.popleft()\n",
      "                hint_gene = hint_genes.popleft()\n",
      "                \n",
      "            else: #Overlap is only partial\n",
      "                \n",
      "                #If overlap spans less than 10% of the length of hint, consider them different\n",
      "                if pct_overlap(hint_coord, abinit_coord) <= 10:\n",
      "                    if hint_coord[0] < abinit_coord[0]:\n",
      "                        merged_fh.write(hint_gff)\n",
      "                        hint_coord, hint_gff = hint_genes.popleft()\n",
      "                    else:\n",
      "                        merged_fh.write(\"ABI\"+abinit_coord)\n",
      "                        abinit_coord, abinit_gff = abinit_genes.popleft()\n",
      "                else: #If overlap covers more than 10% of hint, keep only hint\n",
      "                    merged_fh.write(hint_gff)\n",
      "                    hint_coord, hint_gff = hint_genes.popleft()\n",
      "                    abinit_coord, abinit_gff = abinit_genes.popleft()\n",
      "                \n",
      "def writeWholeContig(genes, merged_fh):\n",
      "    while genes:\n",
      "        _,data = genes.pop()\n",
      "        merged_fh.write(data)"
     ],
     "language": "python",
     "metadata": {},
     "outputs": [],
     "prompt_number": 46
    },
    {
     "cell_type": "code",
     "collapsed": false,
     "input": [
      "\"TcIV-99\" < \"TcIV-100\""
     ],
     "language": "python",
     "metadata": {},
     "outputs": [
      {
       "metadata": {},
       "output_type": "pyout",
       "prompt_number": 12,
       "text": [
        "False"
       ]
      }
     ],
     "prompt_number": 12
    },
    {
     "cell_type": "code",
     "collapsed": false,
     "input": [
      "current_abinitio = None\n",
      "current_hints = None\n",
      "with open(\"merged.gff\",\"w\") as merged_fh:\n",
      "    while abinitio_data and hints_data:\n",
      "        abinit_ctg, abinit_genes  = abinitio_data.popitem(False)\n",
      "        hint_ctg, hint_genes = hints_data.popitem(False)\n",
      "        if abinit_ctg == hint_ctg:\n",
      "            pass\n",
      "            #mergeGenes(abinit_genes,hint_genes, merged_fh)\n",
      "        else:\n",
      "            #write all genes in contig if contig less \n",
      "            pass"
     ],
     "language": "python",
     "metadata": {},
     "outputs": [
      {
       "ename": "Exception",
       "evalue": "One contig is not present in both files: TcIV-320 , TcIV-321",
       "output_type": "pyerr",
       "traceback": [
        "\u001b[0;31m---------------------------------------------------------------------------\u001b[0m\n\u001b[0;31mException\u001b[0m                                 Traceback (most recent call last)",
        "\u001b[0;32m<ipython-input-47-fe5d2d408eaf>\u001b[0m in \u001b[0;36m<module>\u001b[0;34m()\u001b[0m\n\u001b[1;32m      9\u001b[0m             \u001b[0;31m#mergeGenes(abinit_genes,hint_genes, merged_fh)\u001b[0m\u001b[0;34m\u001b[0m\u001b[0;34m\u001b[0m\u001b[0m\n\u001b[1;32m     10\u001b[0m         \u001b[0;32melse\u001b[0m\u001b[0;34m:\u001b[0m\u001b[0;34m\u001b[0m\u001b[0m\n\u001b[0;32m---> 11\u001b[0;31m             \u001b[0;32mraise\u001b[0m \u001b[0mException\u001b[0m\u001b[0;34m(\u001b[0m\u001b[0;34m\"One contig is not present in both files: \"\u001b[0m\u001b[0;34m+\u001b[0m\u001b[0mabinit_ctg\u001b[0m\u001b[0;34m+\u001b[0m\u001b[0;34m\" , \"\u001b[0m\u001b[0;34m+\u001b[0m\u001b[0mhint_ctg\u001b[0m\u001b[0;34m)\u001b[0m\u001b[0;34m\u001b[0m\u001b[0m\n\u001b[0m",
        "\u001b[0;31mException\u001b[0m: One contig is not present in both files: TcIV-320 , TcIV-321"
       ]
      }
     ],
     "prompt_number": 47
    },
    {
     "cell_type": "code",
     "collapsed": false,
     "input": [
      "d = OrderedDict()\n",
      "d[\"a\"]=1\n",
      "d[\"b\"]=2\n",
      "d[\"c\"]=3\n",
      "d[\"d\"]=4\n",
      "for x in d:\n",
      "    print x"
     ],
     "language": "python",
     "metadata": {},
     "outputs": [
      {
       "output_type": "stream",
       "stream": "stdout",
       "text": [
        "a\n",
        "b\n",
        "c\n",
        "d\n"
       ]
      }
     ],
     "prompt_number": 38
    },
    {
     "cell_type": "code",
     "collapsed": false,
     "input": [
      "for line in file:\n",
      "    print line\n",
      "    \n",
      "while file:\n",
      "    x = file.readline()"
     ],
     "language": "python",
     "metadata": {},
     "outputs": []
    }
   ],
   "metadata": {}
  }
 ]
}