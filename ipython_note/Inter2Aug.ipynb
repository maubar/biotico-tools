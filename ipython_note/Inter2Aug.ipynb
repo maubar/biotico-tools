{
 "metadata": {
  "name": ""
 },
 "nbformat": 3,
 "nbformat_minor": 0,
 "worksheets": [
  {
   "cells": [
    {
     "cell_type": "code",
     "collapsed": false,
     "input": [
      "from collections import defaultdict\n",
      "import re"
     ],
     "language": "python",
     "metadata": {},
     "outputs": [],
     "prompt_number": 1
    },
    {
     "cell_type": "code",
     "collapsed": false,
     "input": [
      "#interprot_annot= defaultdict(list)\n",
      "interprot_annot = {}\n",
      "GENE_ID = 0\n",
      "ANNOT_TOOL = 1\n",
      "TAGS = 8"
     ],
     "language": "python",
     "metadata": {},
     "outputs": [],
     "prompt_number": 2
    },
    {
     "cell_type": "code",
     "collapsed": false,
     "input": [
      "def extract_signature_desc(tag_line):\n",
      "    signature_desc = \"\"\n",
      "    tag_fields = tag_line.split(\";\")\n",
      "    for field in tag_fields:\n",
      "        if \"signature_desc\" in field:\n",
      "            value_start = field.find(\"=\")\n",
      "            signature_desc = field[value_start+1:]\n",
      "    return signature_desc"
     ],
     "language": "python",
     "metadata": {},
     "outputs": [],
     "prompt_number": 3
    },
    {
     "cell_type": "code",
     "collapsed": false,
     "input": [
      "#Extract the signature description from Interpro annotation using \n",
      "with open(\"TcIV-X10825.v2-AugustusHintsProt-InterproScan.gff3\",\"r\") as interprot_fh:\n",
      "    for line in interprot_fh:\n",
      "        if line[0] != \"#\" : #ignore comment lines\n",
      "            line_fields = line.rstrip(\"\\n\").split(\"\\t\")\n",
      "            \n",
      "            #Extract from Pfam lines the\n",
      "            if line_fields[ANNOT_TOOL].lower() == \"pfam\":\n",
      "                signature_desc = extract_signature_desc(line_fields[TAGS])\n",
      "                #Remove the .t1 to the gene_id\n",
      "                dot_position = line_fields[GENE_ID].rfind(\".\")\n",
      "                if dot_position != -1:\n",
      "                    line_fields[GENE_ID] = line_fields[GENE_ID][:dot_position]\n",
      "                interprot_annot[  line_fields[GENE_ID] ] = signature_desc\n",
      "        elif line.rstrip(\"\\n\") == \"##FASTA\":\n",
      "            break"
     ],
     "language": "python",
     "metadata": {},
     "outputs": [],
     "prompt_number": 4
    },
    {
     "cell_type": "code",
     "collapsed": false,
     "input": [
      "def getSignatureDescription(gene_id, signature_descriptions):\n",
      "    return signature_descriptions[gene_id] if gene_id in signature_descriptions else \"putative protein\""
     ],
     "language": "python",
     "metadata": {},
     "outputs": [],
     "prompt_number": 31
    },
    {
     "cell_type": "code",
     "collapsed": false,
     "input": [
      "#Substitutes the orignal ID, or parent ID for the signature_desc from interprot pfam if available\n",
      "def processAugLine(line, signature_descriptions):\n",
      "    id_match = re.search( r\"ID=(.+?)(\\..*?)?(;|$)\", line)\n",
      "    if id_match:\n",
      "        gene_id = id_match.group(1)\n",
      "        new_gene_id = getSignatureDescription(gene_id,signature_descriptions)\n",
      "        \n",
      "        new_line = re.sub(r\"ID=(.+?)(;|\\n)\", \"ID=\"+new_gene_id+r\"\\g<2>\",line)\n",
      "        new_line = re.sub(r\";Parent=(.+?)(;|\\n|$)\", r\"\\g<2>\",new_line)\n",
      "    else:\n",
      "        #Look for parent id \n",
      "        parent_match = re.search( r\"Parent=(.+?)(\\..*?)?(;|$)\", line)\n",
      "        if parent_match:\n",
      "            parent_id = parent_match.group(1)\n",
      "            new_parent_id = getSignatureDescription(parent_id,signature_descriptions)\n",
      "            new_line = re.sub(r\"Parent=(.+?)(;|\\n)\", \"Parent=\"+new_parent_id+r\"\\g<2>\",line)\n",
      "        else:\n",
      "            new_line = line\n",
      "    return new_line"
     ],
     "language": "python",
     "metadata": {},
     "outputs": [],
     "prompt_number": 32
    },
    {
     "cell_type": "code",
     "collapsed": false,
     "input": [
      "#putative_prot_counter = 0\n",
      "with open(\"TcIV-X10825.v2.masked-AugustusHints.gff\",\"r\") as aug_fh , open(\"merged.gff\",\"w\") as out_fh:\n",
      "    for line in aug_fh:\n",
      "        if line[0] == \"#\":\n",
      "            out_fh.write(line)\n",
      "        else:\n",
      "            out_fh.write(processAugLine(line, interprot_annot))"
     ],
     "language": "python",
     "metadata": {},
     "outputs": [],
     "prompt_number": 33
    },
    {
     "cell_type": "code",
     "collapsed": false,
     "input": [],
     "language": "python",
     "metadata": {},
     "outputs": []
    }
   ],
   "metadata": {}
  }
 ]
}