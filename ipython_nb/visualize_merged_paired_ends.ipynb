{
 "metadata": {
  "name": "",
  "signature": "sha256:2f3dabf4eb1ba07cc603954c6d23aea642a3042edf4fb5f00c07d310b3ce3858"
 },
 "nbformat": 3,
 "nbformat_minor": 0,
 "worksheets": [
  {
   "cells": [
    {
     "cell_type": "code",
     "collapsed": false,
     "input": [
      "import re\n",
      "import itertools"
     ],
     "language": "python",
     "metadata": {},
     "outputs": [],
     "prompt_number": 1
    },
    {
     "cell_type": "code",
     "collapsed": false,
     "input": [
      "r1_file = \"R1.fa\"\n",
      "r2_file = \"R2.fa\"\n",
      "\n",
      "merged_file = \"pandaseq_1000seqs/panda_max45min5.fa\"\n",
      "\n",
      "HEADER=0\n",
      "SEQ=1"
     ],
     "language": "python",
     "metadata": {},
     "outputs": [],
     "prompt_number": 2
    },
    {
     "cell_type": "code",
     "collapsed": false,
     "input": [
      "def loadFasta(filename):\n",
      "    result = []\n",
      "    fh = open(filename)\n",
      "    current_header = \" \"\n",
      "    for line in fh:\n",
      "        if line.startswith(\">\"):\n",
      "            current_header = line.rstrip(\"\\n\").lstrip(\">\").rsplit(\" \",1)[0]\n",
      "        else:\n",
      "            result.append( (current_header, line.rstrip(\"\\n\")) )\n",
      "    return result"
     ],
     "language": "python",
     "metadata": {},
     "outputs": [],
     "prompt_number": 3
    },
    {
     "cell_type": "code",
     "collapsed": false,
     "input": [
      "def reverseComplement(dna_seq):\n",
      "    return dna_seq.upper().replace(\"A\",\"t\").replace(\"C\",\"g\").replace(\"G\",\"c\").replace(\"T\",\"a\")[::-1].upper()"
     ],
     "language": "python",
     "metadata": {},
     "outputs": [],
     "prompt_number": 4
    },
    {
     "cell_type": "code",
     "collapsed": false,
     "input": [
      "r1 = loadFasta(r1_file)\n",
      "r1 = dict(r1)\n",
      "r2 = loadFasta(r2_file)\n",
      "r2 = dict(r2)\n",
      "merged=  loadFasta(merged_file)\n",
      "merged_mod = [( (h.rsplit(\":\",1)[0] if re.search(r\":[NACGT]+$\",h) else h) ,s) for h,s in merged]\n",
      "\n",
      "print len(r1)\n",
      "print len(r2)\n",
      "print len(merged)\n",
      "print len(merged_mod)"
     ],
     "language": "python",
     "metadata": {},
     "outputs": [
      {
       "output_type": "stream",
       "stream": "stdout",
       "text": [
        "1000\n",
        "1000\n",
        "813\n",
        "813\n"
       ]
      }
     ],
     "prompt_number": 12
    },
    {
     "cell_type": "code",
     "collapsed": false,
     "input": [
      "def visualizeAlignment(r1,r2,merged):\n",
      "    alignment_len = len(r1) + len(r2) - len(merged)\n",
      "    flank = 10\n",
      "    r1_seg = r1_seq[len(r1)-alignment_len-flank:len(r1)-alignment_len].lower()+r1_seq[len(r1)-alignment_len:] + (\" \"*flank)\n",
      "    merged_seg = merged_seq[len(r1)-alignment_len-flank:len(r1)+flank]\n",
      "    r2_seg = \" \"*flank + r2_seq[:alignment_len+flank]\n",
      "    \n",
      "    assert (len(r1_seg) == len(merged_seg) and len(r2_seg) == len(merged_seg))\n",
      "    \n",
      "    matches = []\n",
      "    for idx in range(len(merged_seg)):\n",
      "        matches.append(\"|\" if r2_seg[idx] == r1_seg[idx] else \" \")\n",
      "        \n",
      "    matches = \"\".join(matches)\n",
      "    return \"\\n\".join([r1_seg,matches,merged_seg,matches,r2_seg])+\"\\n\\n\""
     ],
     "language": "python",
     "metadata": {},
     "outputs": [],
     "prompt_number": 6
    },
    {
     "cell_type": "code",
     "collapsed": false,
     "input": [
      "#Returns length of alignment and % id \n",
      "def statsAlignment(r1,r2,merged):\n",
      "    align_len = len(r1) + len(r2) - len(merged)\n",
      "    r1_seg = r1[len(r1)-align_len : len(r1)].upper()\n",
      "    #merged_seg = merged_seq[len(r1)-alignment_len : len(r1)].upper()\n",
      "    r2_seg = r2[:align_len].upper()\n",
      "    \n",
      "    matches = 0\n",
      "    for r1_nucl,r2_nucl in zip(r1_seg,r2_seg):\n",
      "        matches += 1 if r1_nucl == r2_nucl else 0\n",
      "    \n",
      "    pct_id = (100.0 * matches) / align_len\n",
      "    return (align_len,pct_id)"
     ],
     "language": "python",
     "metadata": {},
     "outputs": [],
     "prompt_number": 7
    },
    {
     "cell_type": "code",
     "collapsed": false,
     "input": [
      "total = 0\n",
      "filtered_out = 0\n",
      "included = 0\n",
      "output = open(\"alignments.txt\", \"w\")\n",
      "for merged_header,merged_seq in merged_mod:\n",
      "    assert (merged_header in r1 and merged_header in r2), \"Faaail\"\n",
      "    r1_seq = r1[merged_header]\n",
      "    r2_seq = reverseComplement(r2[merged_header])\n",
      "    align_len, pct_id = statsAlignment(r1_seq,r2_seq,merged_seq)\n",
      "    if align_len > 5 and pct_id > 75.0:\n",
      "        output.write(merged_header+\"\\n\")\n",
      "        #output.write(visualizeAlignment(r1_seq,r2_seq,merged_seq))\n",
      "    elif align_len > 15 and pct_id > 60.0:\n",
      "        output.write(merged_header+\"\\n\")\n",
      "        #output.write(visualizeAlignment(r1_seq,r2_seq,merged_seq))\n",
      "    else:\n",
      "        filtered_out += 1\n",
      "        \n",
      "print filtered_out\n",
      "#assert len(manual_alignment) == len(merged_seq)"
     ],
     "language": "python",
     "metadata": {},
     "outputs": [
      {
       "output_type": "stream",
       "stream": "stdout",
       "text": [
        "677\n"
       ]
      }
     ],
     "prompt_number": 17
    }
   ],
   "metadata": {}
  }
 ]
}