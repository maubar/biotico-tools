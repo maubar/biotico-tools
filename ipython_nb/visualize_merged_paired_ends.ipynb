{
 "metadata": {
  "name": "",
  "signature": "sha256:f0e6e6d308fb1cd008117d93c64934888df680bc5c87e84a38d98b8ed62aaea0"
 },
 "nbformat": 3,
 "nbformat_minor": 0,
 "worksheets": [
  {
   "cells": [
    {
     "cell_type": "code",
     "collapsed": false,
     "input": [
      "import re\n",
      "import itertools"
     ],
     "language": "python",
     "metadata": {},
     "outputs": [],
     "prompt_number": 1
    },
    {
     "cell_type": "code",
     "collapsed": false,
     "input": [
      "r1_file = \"R1.fa\"\n",
      "r2_file = \"R2.fa\"\n",
      "\n",
      "merged_file = \"pandaseq_1000seqs/panda_max45min5.fa\"\n",
      "\n",
      "HEADER=0\n",
      "SEQ=1"
     ],
     "language": "python",
     "metadata": {},
     "outputs": [],
     "prompt_number": 2
    },
    {
     "cell_type": "code",
     "collapsed": false,
     "input": [
      "def loadFasta(filename):\n",
      "    result = []\n",
      "    fh = open(filename)\n",
      "    current_header = \" \"\n",
      "    for line in fh:\n",
      "        if line.startswith(\">\"):\n",
      "            current_header = line.rstrip(\"\\n\").lstrip(\">\").rsplit(\" \",1)[0]\n",
      "        else:\n",
      "            result.append( (current_header, line.rstrip(\"\\n\")) )\n",
      "    return result"
     ],
     "language": "python",
     "metadata": {},
     "outputs": [],
     "prompt_number": 3
    },
    {
     "cell_type": "code",
     "collapsed": false,
     "input": [
      "def reverseComplement(dna_seq):\n",
      "    return dna_seq.upper().replace(\"A\",\"t\").replace(\"C\",\"g\").replace(\"G\",\"c\").replace(\"T\",\"a\")[::-1].upper()"
     ],
     "language": "python",
     "metadata": {},
     "outputs": [],
     "prompt_number": 4
    },
    {
     "cell_type": "code",
     "collapsed": false,
     "input": [
      "r1 = loadFasta(r1_file)\n",
      "r1 = dict(r1)\n",
      "r2 = loadFasta(r2_file)\n",
      "r2 = dict(r2)\n",
      "merged=  loadFasta(merged_file)\n",
      "merged_mod = [( (h.rsplit(\":\",1)[0] if re.search(r\":[NACGT]+$\",h) else h) ,s) for h,s in merged]"
     ],
     "language": "python",
     "metadata": {},
     "outputs": [],
     "prompt_number": 5
    },
    {
     "cell_type": "code",
     "collapsed": false,
     "input": [
      "def buildManualAlignment(r1,r2,merged):\n",
      "    alignment_len = len(r1) + len(r2) - len(merged)\n",
      "    flank = 10\n",
      "    r1_seg = r1_seq[len(r1)-alignment_len-flank:len(r1)-alignment_len].lower()+r1_seq[len(r1)-alignment_len:] + (\" \"*flank)\n",
      "    merged_seg = merged_seq[len(r1)-alignment_len-flank:len(r1)+flank]\n",
      "    r2_seg = \" \"*flank + r2_seq[:alignment_len+flank]\n",
      "    \n",
      "    assert (len(r1_seg) == len(merged_seg) and len(r2_seg) == len(merged_seg))\n",
      "    \n",
      "    matches = []\n",
      "    for idx in range(len(merged_seg)):\n",
      "        matches.append(\"|\" if r2_seg[idx] == r1_seg[idx] else \" \")\n",
      "        \n",
      "    matches = \"\".join(matches)\n",
      "    return \"\\n\".join([r1_seg,matches,merged_seg,matches,r2_seg])+\"\\n\\n\""
     ],
     "language": "python",
     "metadata": {},
     "outputs": [],
     "prompt_number": 28
    },
    {
     "cell_type": "code",
     "collapsed": false,
     "input": [
      "paired_end_idx = 0\n",
      "output = open(\"alignments.txt\", \"w\")\n",
      "for merged_header,merged_seq in merged_mod:\n",
      "    assert (merged_header in r1 and merged_header in r2), \"Faaail\"\n",
      "    r1_seq = r1[merged_header]\n",
      "    r2_seq = reverseComplement(r2[merged_header])\n",
      "    output.write(buildManualAlignment(r1_seq,r2_seq,merged_seq))\n",
      "    #assert len(manual_alignment) == len(merged_seq)"
     ],
     "language": "python",
     "metadata": {},
     "outputs": [],
     "prompt_number": 29
    }
   ],
   "metadata": {}
  }
 ]
}