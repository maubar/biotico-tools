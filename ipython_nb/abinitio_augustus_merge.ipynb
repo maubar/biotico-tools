{
 "metadata": {
  "name": ""
 },
 "nbformat": 3,
 "nbformat_minor": 0,
 "worksheets": [
  {
   "cells": [
    {
     "cell_type": "code",
     "collapsed": false,
     "input": [
      "from collections import OrderedDict,deque\n",
      "import re"
     ],
     "language": "python",
     "metadata": {},
     "outputs": [],
     "prompt_number": 1
    },
    {
     "cell_type": "code",
     "collapsed": false,
     "input": [
      "abinitio_filename = \"TcIV-X10825.v2.masked-AbInitio.gff\"\n",
      "hints_filename = \"TcIV-X10825.v2.masked-AugustusHints.gff\"\n",
      "merged_filename = \"merged.gff\""
     ],
     "language": "python",
     "metadata": {},
     "outputs": [],
     "prompt_number": 2
    },
    {
     "cell_type": "markdown",
     "metadata": {},
     "source": [
      "Constants\n",
      "---------"
     ]
    },
    {
     "cell_type": "code",
     "collapsed": false,
     "input": [
      "#GFF column names\n",
      "CTG_ID = 0\n",
      "ENTRY_TYPE = 2 #gene, transcript, start_codon, stop_codon, CDS\n",
      "START_POS = 3\n",
      "STOP_POS = 4\n",
      "ATTRIBS = 8\n",
      "\n",
      "#loaded gff genes\n",
      "GEN_INTERVAL = 0\n",
      "GFF_LINES = 1"
     ],
     "language": "python",
     "metadata": {},
     "outputs": [],
     "prompt_number": 3
    },
    {
     "cell_type": "markdown",
     "metadata": {},
     "source": [
      "Functions\n",
      "---------"
     ]
    },
    {
     "cell_type": "code",
     "collapsed": false,
     "input": [
      "def extractID(line):\n",
      "    id_match = re.search(r\"ID=(.+?)(;|\\n|$)\",line)\n",
      "    gene_id = id_match.group(1) if id_match else None\n",
      "    return gene_id\n",
      "\n",
      "def extractParent(line):\n",
      "    parent_id_match = re.search(r\"Parent=(.+?)(\\..+?)?(;|\\n|$)\",line)\n",
      "    gene_id = parent_id_match.group(1) if parent_id_match else None\n",
      "    return gene_id"
     ],
     "language": "python",
     "metadata": {},
     "outputs": [],
     "prompt_number": 4
    },
    {
     "cell_type": "code",
     "collapsed": false,
     "input": [
      "x =\"a\"\n",
      "x.startswith"
     ],
     "language": "python",
     "metadata": {},
     "outputs": [
      {
       "metadata": {},
       "output_type": "pyout",
       "prompt_number": 5,
       "text": [
        "<function startswith>"
       ]
      }
     ],
     "prompt_number": 5
    },
    {
     "cell_type": "code",
     "collapsed": false,
     "input": [
      "def loadgff(filename):\n",
      "    data = OrderedDict()\n",
      "\n",
      "    current_ctg = \"\"\n",
      "    current_gene_id = \"\"\n",
      "    current_gene_info = \"\"\n",
      "    current_interval = None\n",
      "    capture_prot_seq = False\n",
      "    with open(filename,\"r\") as fh:\n",
      "        for line in fh:\n",
      "            if line[0] != \"#\" : #ignore comment lines\n",
      "                line_fields = line.rstrip(\"\\n\").split(\"\\t\")\n",
      "                \n",
      "                if line_fields[ENTRY_TYPE] == \"gene\":\n",
      "                    if current_gene_id != \"\":\n",
      "                        #Initialize list for each contig\n",
      "                        if current_ctg not in data:\n",
      "                            data[current_ctg] = deque()\n",
      "                        data[current_ctg].append( (current_interval, current_gene_info)   )\n",
      "                    \n",
      "                    current_ctg = line_fields[CTG_ID]\n",
      "                    current_gene_id = extractID(line_fields[ATTRIBS])\n",
      "                    current_interval = ( int(line_fields[START_POS]) , int(line_fields[STOP_POS])  )\n",
      "                    current_gene_info = line\n",
      "                else: #Accumulate under gene\n",
      "                    parent_id = extractParent(line_fields[ATTRIBS])\n",
      "                    assert( current_gene_id == parent_id)\n",
      "                    current_gene_info += line\n",
      "            elif line.startswith(\"# protein sequence\"):\n",
      "                capture_prot_seq = True\n",
      "                current_gene_info += line\n",
      "            elif capture_prot_seq:\n",
      "                current_gene_info += line\n",
      "                capture_prot_seq = not line.endswith(\"]\\n\")\n",
      "            elif line.rstrip(\"\\n\") == \"# command line:\":\n",
      "                break\n",
      "\n",
      "    return data"
     ],
     "language": "python",
     "metadata": {},
     "outputs": [],
     "prompt_number": 6
    },
    {
     "cell_type": "code",
     "collapsed": false,
     "input": [
      "def fullyContains(container, contained):\n",
      "    return (container[0] <= contained[0]) and (contained[1] <= container[1])\n",
      "\n",
      "def no_overlap(coord1,coord2):\n",
      "    return coord1[1] < coord2[0] or coord2[1] < coord1[0]\n",
      "\n",
      "def pct_overlap(main_annot,secondary_annot):\n",
      "    ovlp_pct = 0\n",
      "    #if there is some overlap\n",
      "    if not(main_annot[1] < secondary_annot[0] or secondary_annot[1] < main_annot[0] ):\n",
      "        ovlp_size = min(main_annot[1],secondary_annot[1]) - max(main_annot[0],secondary_annot[0])\n",
      "        #Overlap pct defined as the % of the main annotation length covered by the secondary annotation\n",
      "        ovlp_pct = (ovlp_size*100)/(main_annot[1]-main_annot[0])      \n",
      "    return ovlp_pct"
     ],
     "language": "python",
     "metadata": {},
     "outputs": [],
     "prompt_number": 7
    },
    {
     "cell_type": "markdown",
     "metadata": {},
     "source": [
      "Defines the merging rules for both files\n",
      "\n",
      "Rules are as follows:\n",
      "\n",
      "    If there is no overlap:\n",
      "        Write the \"gene\" with the lower coordinates\n",
      "    If there is overlap:\n",
      "        if the \"hints\" fully contains the \"ab initio\"\n",
      "            Write hints and discard ab initio\n",
      "        if \"ab initio\" fully contains hints\n",
      "            Write \"ab initio\" only if hints covers less than 65% of the length of \"ab initio\"\n",
      "            Write \"hints\" otherwise\n",
      "        if there is a partial overlap:\n",
      "            \n",
      "            "
     ]
    },
    {
     "cell_type": "code",
     "collapsed": false,
     "input": [
      "#Defines the merging rules for both files\n",
      "\n",
      "def mergeGenes(abinit_genes, hint_genes, merged_fh):\n",
      "    abinit_coord, abinit_gff = abinit_genes.popleft()\n",
      "    hint_coord, hint_gff = hint_genes.popleft()\n",
      "\n",
      "    while abinit_genes and hint_genes:\n",
      "        if no_overlap(hint_coord, abinit_coord):\n",
      "            if hint_coord[0] < abinit_coord[0]:\n",
      "                merged_fh.write(hint_gff)\n",
      "                hint_coord, hint_gff = hint_genes.popleft()\n",
      "            else:\n",
      "                merged_fh.write(abInitioDataDecorator(abinit_gff))\n",
      "                abinit_coord, abinit_gff = abinit_genes.popleft()\n",
      "\n",
      "        else: #If there is some overlap\n",
      "            if fullyContains(hint_coord,abinit_coord): #If hint interval contains the ab initio\n",
      "                #Keep hints, discard ab initio\n",
      "                merged_fh.write(hint_gff) #Do I want to write this out? \n",
      "                abinit_coord, abinit_gff = abinit_genes.popleft()\n",
      "                hint_coord, hint_gff = hint_genes.popleft()\n",
      "            \n",
      "            elif fullyContains(abinit_coord,hint_coord): #If the ab initio interval contains completely the hints interval\n",
      "                #If the hits interval spans less the 65% of the ab initio interval - Use ab initio\n",
      "                if pct_overlap(abinit_coord,hint_coord ) < 65:\n",
      "                    merged_fh.write(abInitioDataDecorator(abinit_gff) )\n",
      "                else: #If it is covered more than 65% , then keep the hits \n",
      "                    merged_fh.write(hint_gff)\n",
      "                abinit_coord, abinit_gff = abinit_genes.popleft()\n",
      "                hint_coord, hint_gff = hint_genes.popleft()\n",
      "                \n",
      "            else: #Overlap is only partial\n",
      "                #If overlap spans less than 10% of the length of hint, consider them different\n",
      "                if pct_overlap(hint_coord, abinit_coord) <= 10:\n",
      "                    if hint_coord[0] < abinit_coord[0]:\n",
      "                        merged_fh.write(hint_gff)\n",
      "                        hint_coord, hint_gff = hint_genes.popleft()\n",
      "                    else:\n",
      "                        merged_fh.write(abInitioDataDecorator(abinit_gff))\n",
      "                        abinit_coord, abinit_gff = abinit_genes.popleft()\n",
      "                else: #If overlap covers more than 10% of hint, discard ab_init\n",
      "                    print \"Discarded ab-initio, for more than 10% overlap\"\n",
      "                    print abinit_coord\n",
      "                    abinit_coord, abinit_gff = abinit_genes.popleft()            \n",
      "                \n",
      "def writeWholeContig(genes, merged_fh,is_abinitio):\n",
      "    while genes:\n",
      "        _,data = genes.pop()\n",
      "        data = data if not is_abinitio else abInitioDataDecorator(data)\n",
      "        merged_fh.write(data)"
     ],
     "language": "python",
     "metadata": {},
     "outputs": [],
     "prompt_number": 8
    },
    {
     "cell_type": "code",
     "collapsed": false,
     "input": [
      "def extractCtgNumber(ctg_id, ctg_prefix=\"TcIV-\"):\n",
      "    assert ctg_id.startswith(ctg_prefix)\n",
      "    return int(ctg_id[ len(ctg_prefix):] )\n",
      "\n",
      "def abInitioDataDecorator( ab_init_data):\n",
      "    return re.sub(r\"\\t(.*)\\n\",r\"\\t\\g<1>;src=abinit\\n\",ab_init_data)"
     ],
     "language": "python",
     "metadata": {},
     "outputs": [],
     "prompt_number": 9
    },
    {
     "cell_type": "markdown",
     "metadata": {},
     "source": [
      "## Actual processing!\n",
      "\n",
      "### Load data from Ab Initio annotation and Augustus Hints into memory"
     ]
    },
    {
     "cell_type": "code",
     "collapsed": false,
     "input": [
      "#load info into memory\n",
      "abinitio_data = loadgff(abinitio_filename)\n",
      "hints_data = loadgff(hints_filename)"
     ],
     "language": "python",
     "metadata": {},
     "outputs": [],
     "prompt_number": 10
    },
    {
     "cell_type": "markdown",
     "metadata": {},
     "source": [
      "###Merge both samples giving priority to hints"
     ]
    },
    {
     "cell_type": "code",
     "collapsed": false,
     "input": [
      "current_abinitio = None\n",
      "current_hints = None\n",
      "with open(\"merged.gff\",\"w\") as merged_fh:\n",
      "    abinit_ctg, abinit_genes  = abinitio_data.popitem(False)\n",
      "    hint_ctg, hint_genes = hints_data.popitem(False)\n",
      "    while abinitio_data and hints_data:\n",
      "        if abinit_ctg == hint_ctg:\n",
      "            mergeGenes(abinit_genes,hint_genes, merged_fh)\n",
      "            abinit_ctg, abinit_genes  = abinitio_data.popitem(False)\n",
      "            hint_ctg, hint_genes = hints_data.popitem(False)\n",
      "        elif extractCtgNumber(abinit_ctg) < extractCtgNumber(hint_ctg):\n",
      "            #If there is only ab initio annotatio for this contig\n",
      "            writeWholeContig(abinit_genes, merged_fh,True)\n",
      "            abinit_ctg, abinit_genes  = abinitio_data.popitem(False)\n",
      "        else:\n",
      "            #If there is only hint annotation for this contig\n",
      "            writeWholeContig(hint_genes, merged_fh,is_abinitio= False)\n",
      "            hint_ctg, hint_genes = hints_data.popitem(False)\n",
      "            \n",
      "    assert (len(abinitio_data) == 0) or (len(hints_data) == 0 )\n",
      "    #Write remaining annotation \n",
      "    while abinitio_data:\n",
      "        writeWholeContig(abinit_genes, merged_fh,True)\n",
      "        abinit_ctg, abinit_genes  = abinitio_data.popitem(False)\n",
      "    \n",
      "    while hints_data:\n",
      "        writeWholeContig(hint_genes, merged_fh,False)\n",
      "        hint_ctg, hint_genes = hints_data.popitem(False)"
     ],
     "language": "python",
     "metadata": {},
     "outputs": [
      {
       "output_type": "stream",
       "stream": "stdout",
       "text": [
        "Discarded ab-initio, for more than 10% overlap\n",
        "(18848, 19186)\n",
        "Discarded ab-initio, for more than 10% overlap\n",
        "(159286, 160239)\n",
        "Discarded ab-initio, for more than 10% overlap\n",
        "(44908, 45636)\n",
        "Discarded ab-initio, for more than 10% overlap\n",
        "(30648, 31361)\n",
        "Discarded ab-initio, for more than 10% overlap\n",
        "(10550, 10960)\n",
        "Discarded ab-initio, for more than 10% overlap\n",
        "(40638, 41000)\n",
        "Discarded ab-initio, for more than 10% overlap\n",
        "(19, 729)\n",
        "Discarded ab-initio, for more than 10% overlap\n",
        "(3321, 3890)\n",
        "Discarded ab-initio, for more than 10% overlap\n",
        "(28891, 29595)\n",
        "Discarded ab-initio, for more than 10% overlap\n",
        "(7692, 8312)\n",
        "Discarded ab-initio, for more than 10% overlap\n",
        "(10093, 10806)\n",
        "Discarded ab-initio, for more than 10% overlap"
       ]
      },
      {
       "output_type": "stream",
       "stream": "stdout",
       "text": [
        "\n",
        "(8338, 8820)\n",
        "Discarded ab-initio, for more than 10% overlap\n",
        "(14525, 14989)\n",
        "Discarded ab-initio, for more than 10% overlap\n",
        "(42, 1409)\n",
        "Discarded ab-initio, for more than 10% overlap"
       ]
      },
      {
       "output_type": "stream",
       "stream": "stdout",
       "text": [
        "\n",
        "(3337, 3810)\n",
        "Discarded ab-initio, for more than 10% overlap\n",
        "(2551, 3264)\n",
        "Discarded ab-initio, for more than 10% overlap\n",
        "(2517, 3962)\n"
       ]
      }
     ],
     "prompt_number": 11
    }
   ],
   "metadata": {}
  }
 ]
}