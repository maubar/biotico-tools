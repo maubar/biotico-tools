{
 "metadata": {
  "name": "",
  "signature": "sha256:7cd3fadbe29ce2b66e2963f0c8862c7cf077807c7a48ea2b44d4ced82fc5946a"
 },
 "nbformat": 3,
 "nbformat_minor": 0,
 "worksheets": [
  {
   "cells": [
    {
     "cell_type": "code",
     "collapsed": false,
     "input": [
      "import struct\n",
      "import array"
     ],
     "language": "python",
     "metadata": {},
     "outputs": [],
     "prompt_number": 1
    },
    {
     "cell_type": "markdown",
     "metadata": {},
     "source": [
      "##Load data from .dmp files"
     ]
    },
    {
     "cell_type": "code",
     "collapsed": false,
     "input": [
      "def calculate_indexed_array_sizes(dmp_file):\n",
      "    array_sizes = array.array(\"I\",(0,)*(0xFFFF))\n",
      "    n_gi = 0 #Number of processed gis\n",
      "\n",
      "    current_gi_idx = None\n",
      "    last_taxid = None\n",
      "    is_series_of_taxid = False\n",
      "    with open(dmp_file) as gi2taxid_fh:\n",
      "        for line in gi2taxid_fh:\n",
      "            n_gi += 1\n",
      "            #Read row\n",
      "            row = line.rstrip(\"\\n\").split(\"\\t\")\n",
      "            #Extract gi\n",
      "            gi = struct.unpack(\"HH\",struct.pack(\"I\", long(row[0])))\n",
      "            #Extract taxid\n",
      "            tax_id = row[1]\n",
      "            \n",
      "            #if gi belongs to next level in index (high bytes of gi changed)\n",
      "            if gi[1] != current_gi_idx:\n",
      "                current_gi_idx = gi[1] #Change current index\n",
      "                last_taxid = None\n",
      "\n",
      "            \n",
      "            if tax_id != last_taxid:\n",
      "                array_sizes[ gi[1] ] += 1\n",
      "                last_taxid = tax_id\n",
      "    \n",
      "    return array_sizes, n_gi"
     ],
     "language": "python",
     "metadata": {},
     "outputs": [],
     "prompt_number": 2
    },
    {
     "cell_type": "code",
     "collapsed": false,
     "input": [
      "def init_indexed_array(array_sizes):\n",
      "    taxid_array = [None] * (0xFFFF)\n",
      "    for idx,size in enumerate(array_sizes):\n",
      "        taxid_array[idx]  = array.array( \"B\", (0,) * (5*(size) ) )\n",
      "    return taxid_array"
     ],
     "language": "python",
     "metadata": {},
     "outputs": [],
     "prompt_number": 3
    },
    {
     "cell_type": "code",
     "collapsed": false,
     "input": [
      "def load_dmp_into_indexed_array(idxed_array, dmp_file):\n",
      "    current_gi_idx = None\n",
      "    last_taxid = None\n",
      "    is_series_of_taxid = False\n",
      "    with open(dmp_file) as gi2taxid_fh:\n",
      "        for line in gi2taxid_fh:\n",
      "            #Read row\n",
      "            row = line.rstrip(\"\\n\").split(\"\\t\")\n",
      "            #Extract gi\n",
      "            low_bytes_gi, hi_bytes_gi = struct.unpack(\"HH\",struct.pack(\"I\", long(row[0])))\n",
      "            #Extract taxid\n",
      "            tax_id = long(row[1])\n",
      "            \n",
      "            #if gi belongs to next level in index (high bytes of gi changed)\n",
      "            if hi_bytes_gi != current_gi_idx:\n",
      "                current_gi_idx = hi_bytes_gi #Change current index\n",
      "                pos_to_fill = 0\n",
      "                last_taxid = None\n",
      "            \n",
      "            if tax_id != last_taxid:\n",
      "                #Split taxid in three bytes (discard the highest byte who is always 0)\n",
      "                taxid_bytes= struct.unpack(\"=BBBB\",struct.pack(\"=I\",tax_id))[:3]\n",
      "                \n",
      "                #Split low bytes of gi into one byte components\n",
      "                low_gi = struct.unpack(\"=BB\",struct.pack(\"=H\",low_bytes_gi))\n",
      "                \n",
      "                #5 byte to store is (gi_1,gi_2, taxid_1,taxid_2,taxid_3)\n",
      "                bytes_to_store = array.array(\"B\",low_gi+taxid_bytes)\n",
      "                #Store 5byte code into array\n",
      "                idxed_array[hi_bytes_gi][pos_to_fill:pos_to_fill+5] = bytes_to_store\n",
      "                \n",
      "                #Update variables for next iteration\n",
      "                pos_to_fill += 5\n",
      "                last_taxid = tax_id"
     ],
     "language": "python",
     "metadata": {},
     "outputs": [],
     "prompt_number": 17
    },
    {
     "cell_type": "code",
     "collapsed": false,
     "input": [
      "#def build_indexed_array(dmp_file):\n",
      "array_sizes,n_gi = calculate_indexed_array_sizes(\"gi_taxid_nucl.dmp\")\n",
      "taxid_array = init_indexed_array(array_sizes)\n",
      "load_dmp_into_indexed_array(taxid_array, \"gi_taxid_nucl.dmp\")\n",
      "print n_gi"
     ],
     "language": "python",
     "metadata": {},
     "outputs": [
      {
       "output_type": "stream",
       "stream": "stdout",
       "text": [
        "451534318\n"
       ]
      }
     ],
     "prompt_number": 5
    },
    {
     "cell_type": "markdown",
     "metadata": {},
     "source": [
      "##Functions to resolve taxids from indexed array"
     ]
    },
    {
     "cell_type": "code",
     "collapsed": false,
     "input": [
      "def get_taxid_for_gi(gi, taxid_array,array_sizes):\n",
      "    low_bytes_gi, hi_bytes_gi = struct.unpack(\"HH\",struct.pack(\"I\", long(gi)))    \n",
      "    \n",
      "    last_gi = (array_sizes[hi_bytes_gi]-1) * 5\n",
      "    \n",
      "    if len(taxid_array[hi_bytes_gi]) == 0 or low_bytes_gi < decode_gi( taxid_array[hi_bytes_gi][0:2]):\n",
      "        print \"GI does not have an assigned taxid\"\n",
      "    elif low_bytes_gi > decode_gi(taxid_array[hi_bytes_gi][last_gi:last_gi+2]):\n",
      "        return decode_taxid(taxid_array[hi_bytes_gi][last_gi+2:last_gi+5])\n",
      "    else:\n",
      "        return bytearray_binsearch(low_bytes_gi,taxid_array[hi_bytes_gi])"
     ],
     "language": "python",
     "metadata": {},
     "outputs": [],
     "prompt_number": 2
    },
    {
     "cell_type": "code",
     "collapsed": false,
     "input": [
      "def bytearray_binsearch(gi,byte_array):\n",
      "    first = 0\n",
      "    last = (len(byte_array) / 5 ) - 1\n",
      "    found = False\n",
      "    assert len(byte_array) % 5 == 0\n",
      "    while not found and first <= last:\n",
      "        middle_pos = (last + first) / 2 #Integer division, always floor(x/y)\n",
      "        middle_gi = decode_gi(byte_array[(middle_pos*5):(middle_pos*5)+2])\n",
      "        if middle_gi == gi:\n",
      "            found = True\n",
      "            taxid = decode_taxid(byte_array[(middle_pos*5)+2:(middle_pos*5)+5])\n",
      "        elif middle_gi < gi:\n",
      "            first = middle_pos + 1\n",
      "        else: #middle_gi > gi\n",
      "            last = middle_pos - 1\n",
      "    if not found:\n",
      "        #If not found, last item will always be the closest smaller number in ther\n",
      "        # array, and following our assumptions, if the number is not present,\n",
      "        # it is because it is a series of repeated tax id for the consequent numbers\n",
      "        # until the next change. Therefore, its tax id must be the last position checked\n",
      "        taxid = decode_taxid(byte_array[(last*5)+2:(last*5)+5])\n",
      "    return taxid"
     ],
     "language": "python",
     "metadata": {},
     "outputs": [],
     "prompt_number": 13
    },
    {
     "cell_type": "code",
     "collapsed": false,
     "input": [
      "def decode_gi_taxid( byte_array ):\n",
      "    gi =struct.unpack(\"=H\",struct.pack(\"=BB\",*byte_array[0:2]))[0]\n",
      "    taxid = struct.unpack(\"=I\",struct.pack(\"=BBBB\",byte_array[2],byte_array[3],byte_array[4],0))[0]\n",
      "    return gi,taxid"
     ],
     "language": "python",
     "metadata": {},
     "outputs": [],
     "prompt_number": 4
    },
    {
     "cell_type": "code",
     "collapsed": false,
     "input": [
      "def decode_gi( byte_array ):\n",
      "    gi =struct.unpack(\"=H\",struct.pack(\"=BB\",*byte_array))[0]\n",
      "    return gi\n",
      "\n",
      "def decode_taxid( byte_array ):\n",
      "    taxid = struct.unpack(\"=I\",struct.pack(\"=BBBB\",byte_array[0],byte_array[1],byte_array[2],0))[0]\n",
      "    return taxid"
     ],
     "language": "python",
     "metadata": {},
     "outputs": [],
     "prompt_number": 5
    },
    {
     "cell_type": "markdown",
     "metadata": {},
     "source": [
      "#MAX TEST, convert, all gis and resulting file has to be identical to gi_taxid_nucl.dmp"
     ]
    },
    {
     "cell_type": "code",
     "collapsed": false,
     "input": [
      "gis_fh = open(\"gis\")\n",
      "out_fh = open(\"out.dmp\",\"w\")\n",
      "n = 0\n",
      "for gi in gis_fh:\n",
      "    out_fh.write(\"{}\\t{}\\n\".format(gi.rstrip(\"\\n\"), get_taxid_for_gi(gi.rstrip(\"\\n\") ,taxid_array,array_sizes )))\n",
      "    n+=1\n",
      "    if n % 10000000 == 0:\n",
      "        print n"
     ],
     "language": "python",
     "metadata": {},
     "outputs": []
    },
    {
     "cell_type": "code",
     "collapsed": false,
     "input": [
      "out_fh.close()"
     ],
     "language": "python",
     "metadata": {},
     "outputs": [],
     "prompt_number": 142
    },
    {
     "cell_type": "markdown",
     "metadata": {},
     "source": [
      "##Store index in file"
     ]
    },
    {
     "cell_type": "code",
     "collapsed": false,
     "input": [
      "index_fh = open(\"nucl.ids\",\"wb\")\n",
      "for x in array_sizes:\n",
      "    index_fh.write(struct.pack(\"=H\",x))\n",
      "index_fh.close()"
     ],
     "language": "python",
     "metadata": {},
     "outputs": [],
     "prompt_number": 158
    },
    {
     "cell_type": "code",
     "collapsed": false,
     "input": [
      "index_fh = open(\"nucl.idx\",\"wb\")\n",
      "for x in taxid_array:\n",
      "    index_fh.write(x)\n",
      "index_fh.close()"
     ],
     "language": "python",
     "metadata": {},
     "outputs": [],
     "prompt_number": 162
    },
    {
     "cell_type": "markdown",
     "metadata": {},
     "source": [
      "##Load index from file"
     ]
    },
    {
     "cell_type": "code",
     "collapsed": false,
     "input": [
      "def load_array_sizes(sizes_file):\n",
      "    size_idx = open(sizes_file,\"rb\")\n",
      "    byte_sizes = bytearray(size_idx.read())\n",
      "    loaded_sizes = array.array(\"I\",(0,)*(0xFFFF))\n",
      "    for x in range(0xFFFF):\n",
      "        loaded_sizes[x] = struct.unpack(\"=H\",byte_sizes[(2*x):(2*x)+2])[0]\n",
      "    return loaded_sizes"
     ],
     "language": "python",
     "metadata": {},
     "outputs": [],
     "prompt_number": 6
    },
    {
     "cell_type": "code",
     "collapsed": false,
     "input": [
      "def load_taxids_from_index(array_index_file,array_sizes):\n",
      "    taxid_array = [None] * (0xFFFF)\n",
      "    taxid_array_fh = open(array_index_file,\"rb\")\n",
      "    for idx,size in enumerate(array_sizes):\n",
      "        taxid_array[idx] = array.array( \"B\" , taxid_array_fh.read(size*5))\n",
      "    return taxid_array"
     ],
     "language": "python",
     "metadata": {},
     "outputs": [],
     "prompt_number": 10
    },
    {
     "cell_type": "code",
     "collapsed": false,
     "input": [
      "loaded_sizes = load_array_sizes(\"nucl.ids\")\n",
      "loaded_array = load_taxids_from_index(\"nucl.idx\",loaded_sizes)"
     ],
     "language": "python",
     "metadata": {},
     "outputs": [],
     "prompt_number": 11
    },
    {
     "cell_type": "code",
     "collapsed": false,
     "input": [
      "get_taxid_for_gi(2,loaded_array,loaded_sizes)"
     ],
     "language": "python",
     "metadata": {},
     "outputs": [
      {
       "metadata": {},
       "output_type": "pyout",
       "prompt_number": 14,
       "text": [
        "9913"
       ]
      }
     ],
     "prompt_number": 14
    },
    {
     "cell_type": "markdown",
     "metadata": {},
     "source": [
      "##Loaded dump"
     ]
    },
    {
     "cell_type": "code",
     "collapsed": false,
     "input": [
      "def test_dump(gi_list_file, out_file,indexed_array,array_sizes):\n",
      "    gis_fh = open(gi_list_file)\n",
      "    out_fh = open(out_file,\"w\")\n",
      "    n = 0\n",
      "    for gi in gis_fh:\n",
      "        out_fh.write(\"{}\\t{}\\n\".format(gi.rstrip(\"\\n\"), get_taxid_for_gi(gi.rstrip(\"\\n\") ,indexed_array,array_sizes )))\n",
      "        n+=1\n",
      "        if n % 10000000 == 0:\n",
      "            print n\n",
      "    out_fh.close()"
     ],
     "language": "python",
     "metadata": {},
     "outputs": [],
     "prompt_number": 20
    },
    {
     "cell_type": "code",
     "collapsed": false,
     "input": [
      "import time\n",
      "start_time = time.time()\n",
      "test_dump(\"gis\",\"loaded_idx_nucl.dmp\",loaded_array,loaded_sizes)\n",
      "elapsed_time = time.time() - start_time"
     ],
     "language": "python",
     "metadata": {},
     "outputs": [
      {
       "output_type": "stream",
       "stream": "stdout",
       "text": [
        "10000000\n",
        "20000000"
       ]
      },
      {
       "output_type": "stream",
       "stream": "stdout",
       "text": [
        "\n",
        "30000000"
       ]
      },
      {
       "output_type": "stream",
       "stream": "stdout",
       "text": [
        "\n",
        "40000000"
       ]
      },
      {
       "output_type": "stream",
       "stream": "stdout",
       "text": [
        "\n",
        "50000000"
       ]
      },
      {
       "output_type": "stream",
       "stream": "stdout",
       "text": [
        "\n",
        "60000000"
       ]
      },
      {
       "output_type": "stream",
       "stream": "stdout",
       "text": [
        "\n",
        "70000000"
       ]
      },
      {
       "output_type": "stream",
       "stream": "stdout",
       "text": [
        "\n",
        "80000000"
       ]
      },
      {
       "output_type": "stream",
       "stream": "stdout",
       "text": [
        "\n",
        "90000000"
       ]
      },
      {
       "output_type": "stream",
       "stream": "stdout",
       "text": [
        "\n",
        "100000000"
       ]
      },
      {
       "output_type": "stream",
       "stream": "stdout",
       "text": [
        "\n",
        "110000000"
       ]
      },
      {
       "output_type": "stream",
       "stream": "stdout",
       "text": [
        "\n",
        "120000000"
       ]
      },
      {
       "output_type": "stream",
       "stream": "stdout",
       "text": [
        "\n",
        "130000000"
       ]
      },
      {
       "output_type": "stream",
       "stream": "stdout",
       "text": [
        "\n",
        "140000000"
       ]
      },
      {
       "output_type": "stream",
       "stream": "stdout",
       "text": [
        "\n",
        "150000000"
       ]
      },
      {
       "output_type": "stream",
       "stream": "stdout",
       "text": [
        "\n",
        "160000000"
       ]
      },
      {
       "output_type": "stream",
       "stream": "stdout",
       "text": [
        "\n",
        "170000000"
       ]
      },
      {
       "output_type": "stream",
       "stream": "stdout",
       "text": [
        "\n",
        "180000000"
       ]
      },
      {
       "output_type": "stream",
       "stream": "stdout",
       "text": [
        "\n",
        "190000000"
       ]
      },
      {
       "output_type": "stream",
       "stream": "stdout",
       "text": [
        "\n",
        "200000000"
       ]
      },
      {
       "output_type": "stream",
       "stream": "stdout",
       "text": [
        "\n",
        "210000000"
       ]
      },
      {
       "output_type": "stream",
       "stream": "stdout",
       "text": [
        "\n",
        "220000000"
       ]
      },
      {
       "output_type": "stream",
       "stream": "stdout",
       "text": [
        "\n",
        "230000000"
       ]
      },
      {
       "output_type": "stream",
       "stream": "stdout",
       "text": [
        "\n",
        "240000000"
       ]
      },
      {
       "output_type": "stream",
       "stream": "stdout",
       "text": [
        "\n",
        "250000000"
       ]
      },
      {
       "output_type": "stream",
       "stream": "stdout",
       "text": [
        "\n",
        "260000000"
       ]
      },
      {
       "output_type": "stream",
       "stream": "stdout",
       "text": [
        "\n",
        "270000000"
       ]
      },
      {
       "output_type": "stream",
       "stream": "stdout",
       "text": [
        "\n",
        "280000000"
       ]
      },
      {
       "output_type": "stream",
       "stream": "stdout",
       "text": [
        "\n",
        "290000000"
       ]
      },
      {
       "output_type": "stream",
       "stream": "stdout",
       "text": [
        "\n",
        "300000000"
       ]
      },
      {
       "output_type": "stream",
       "stream": "stdout",
       "text": [
        "\n",
        "310000000"
       ]
      },
      {
       "output_type": "stream",
       "stream": "stdout",
       "text": [
        "\n",
        "320000000"
       ]
      },
      {
       "output_type": "stream",
       "stream": "stdout",
       "text": [
        "\n",
        "330000000"
       ]
      },
      {
       "output_type": "stream",
       "stream": "stdout",
       "text": [
        "\n",
        "340000000"
       ]
      },
      {
       "output_type": "stream",
       "stream": "stdout",
       "text": [
        "\n",
        "350000000"
       ]
      },
      {
       "output_type": "stream",
       "stream": "stdout",
       "text": [
        "\n",
        "360000000"
       ]
      },
      {
       "output_type": "stream",
       "stream": "stdout",
       "text": [
        "\n",
        "370000000"
       ]
      },
      {
       "output_type": "stream",
       "stream": "stdout",
       "text": [
        "\n",
        "380000000"
       ]
      },
      {
       "output_type": "stream",
       "stream": "stdout",
       "text": [
        "\n",
        "390000000"
       ]
      },
      {
       "output_type": "stream",
       "stream": "stdout",
       "text": [
        "\n",
        "400000000"
       ]
      },
      {
       "output_type": "stream",
       "stream": "stdout",
       "text": [
        "\n",
        "410000000"
       ]
      },
      {
       "output_type": "stream",
       "stream": "stdout",
       "text": [
        "\n",
        "420000000"
       ]
      },
      {
       "output_type": "stream",
       "stream": "stdout",
       "text": [
        "\n",
        "430000000"
       ]
      },
      {
       "output_type": "stream",
       "stream": "stdout",
       "text": [
        "\n",
        "440000000"
       ]
      },
      {
       "output_type": "stream",
       "stream": "stdout",
       "text": [
        "\n",
        "450000000"
       ]
      },
      {
       "output_type": "stream",
       "stream": "stdout",
       "text": [
        "\n"
       ]
      }
     ],
     "prompt_number": 22
    },
    {
     "cell_type": "code",
     "collapsed": false,
     "input": [
      "elapsed_time"
     ],
     "language": "python",
     "metadata": {},
     "outputs": [
      {
       "metadata": {},
       "output_type": "pyout",
       "prompt_number": 23,
       "text": [
        "6852.388290166855"
       ]
      }
     ],
     "prompt_number": 23
    },
    {
     "cell_type": "code",
     "collapsed": false,
     "input": [],
     "language": "python",
     "metadata": {},
     "outputs": []
    }
   ],
   "metadata": {}
  }
 ]
}