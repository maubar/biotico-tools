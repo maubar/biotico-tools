{
 "cells": [
  {
   "cell_type": "code",
   "execution_count": 3,
   "metadata": {
    "collapsed": false
   },
   "outputs": [
    {
     "name": "stderr",
     "output_type": "stream",
     "text": [
      "/home/maubar/anaconda/lib/python2.7/site-packages/matplotlib/font_manager.py:273: UserWarning: Matplotlib is building the font cache using fc-list. This may take a moment.\n",
      "  warnings.warn('Matplotlib is building the font cache using fc-list. This may take a moment.')\n"
     ]
    }
   ],
   "source": [
    "import re\n",
    "from collections import defaultdict\n",
    "import itertools\n",
    "\n",
    "import pandas as pd\n",
    "import numpy as np\n",
    "\n",
    "\n",
    "import matplotlib as mpl\n",
    "mpl.use('Agg')\n",
    "import matplotlib.pyplot as plt\n",
    "\n",
    "\n",
    "from matplotlib import collections as mc"
   ]
  },
  {
   "cell_type": "code",
   "execution_count": 4,
   "metadata": {
    "collapsed": false
   },
   "outputs": [
    {
     "data": {
      "text/plain": [
       "['qseqid',\n",
       " 'sseqid',\n",
       " 'pident',\n",
       " 'qcovs',\n",
       " 'score',\n",
       " 'qlen',\n",
       " 'qstart',\n",
       " 'qend',\n",
       " 'slen',\n",
       " 'sstart',\n",
       " 'send',\n",
       " 'length',\n",
       " 'mismatch',\n",
       " 'gapopen']"
      ]
     },
     "execution_count": 4,
     "metadata": {},
     "output_type": "execute_result"
    }
   ],
   "source": [
    "with open(\"blast_tsv_columns.txt\") as fh:\n",
    "    blast_cols = next(fh).rstrip(\" \\n\").split(\" \")\n",
    "blast_cols"
   ]
  },
  {
   "cell_type": "code",
   "execution_count": 5,
   "metadata": {
    "collapsed": false
   },
   "outputs": [],
   "source": [
    "blast_hits = pd.read_csv(\"metaspades1_to_candidates_filt.tsv\",header=None,names=blast_cols,sep=\"\\t\")"
   ]
  },
  {
   "cell_type": "code",
   "execution_count": 6,
   "metadata": {
    "collapsed": false
   },
   "outputs": [
    {
     "data": {
      "text/html": [
       "<div>\n",
       "<table border=\"1\" class=\"dataframe\">\n",
       "  <thead>\n",
       "    <tr style=\"text-align: right;\">\n",
       "      <th></th>\n",
       "      <th>qseqid</th>\n",
       "      <th>sseqid</th>\n",
       "      <th>pident</th>\n",
       "      <th>qcovs</th>\n",
       "      <th>score</th>\n",
       "      <th>qlen</th>\n",
       "      <th>qstart</th>\n",
       "      <th>qend</th>\n",
       "      <th>slen</th>\n",
       "      <th>sstart</th>\n",
       "      <th>send</th>\n",
       "      <th>length</th>\n",
       "      <th>mismatch</th>\n",
       "      <th>gapopen</th>\n",
       "    </tr>\n",
       "  </thead>\n",
       "  <tbody>\n",
       "    <tr>\n",
       "      <th>0</th>\n",
       "      <td>NODE_25_length_30926_cov_18.7711</td>\n",
       "      <td>NODE_109_length_25355_cov_5.19581_ID_86627</td>\n",
       "      <td>99.996</td>\n",
       "      <td>77</td>\n",
       "      <td>47026</td>\n",
       "      <td>30926</td>\n",
       "      <td>1</td>\n",
       "      <td>23516</td>\n",
       "      <td>25355</td>\n",
       "      <td>23516</td>\n",
       "      <td>1</td>\n",
       "      <td>23516</td>\n",
       "      <td>1</td>\n",
       "      <td>0</td>\n",
       "    </tr>\n",
       "    <tr>\n",
       "      <th>1</th>\n",
       "      <td>NODE_203_length_12813_cov_28.6907</td>\n",
       "      <td>NODE_683_length_8295_cov_9.51971_ID_110378</td>\n",
       "      <td>100.000</td>\n",
       "      <td>50</td>\n",
       "      <td>12886</td>\n",
       "      <td>12813</td>\n",
       "      <td>1</td>\n",
       "      <td>6443</td>\n",
       "      <td>8295</td>\n",
       "      <td>1853</td>\n",
       "      <td>8295</td>\n",
       "      <td>6443</td>\n",
       "      <td>0</td>\n",
       "      <td>0</td>\n",
       "    </tr>\n",
       "    <tr>\n",
       "      <th>2</th>\n",
       "      <td>NODE_353_length_9780_cov_17.0422</td>\n",
       "      <td>NODE_141_length_22510_cov_15.0782_ID_182954</td>\n",
       "      <td>100.000</td>\n",
       "      <td>100</td>\n",
       "      <td>19560</td>\n",
       "      <td>9780</td>\n",
       "      <td>1</td>\n",
       "      <td>9780</td>\n",
       "      <td>22510</td>\n",
       "      <td>19220</td>\n",
       "      <td>9441</td>\n",
       "      <td>9780</td>\n",
       "      <td>0</td>\n",
       "      <td>0</td>\n",
       "    </tr>\n",
       "    <tr>\n",
       "      <th>3</th>\n",
       "      <td>NODE_687_length_6958_cov_21.6469</td>\n",
       "      <td>NODE_156_length_21389_cov_10.4886_ID_87504</td>\n",
       "      <td>100.000</td>\n",
       "      <td>100</td>\n",
       "      <td>13916</td>\n",
       "      <td>6958</td>\n",
       "      <td>1</td>\n",
       "      <td>6958</td>\n",
       "      <td>21389</td>\n",
       "      <td>11354</td>\n",
       "      <td>4397</td>\n",
       "      <td>6958</td>\n",
       "      <td>0</td>\n",
       "      <td>0</td>\n",
       "    </tr>\n",
       "    <tr>\n",
       "      <th>4</th>\n",
       "      <td>NODE_1451_length_4109_cov_49.7083</td>\n",
       "      <td>NODE_156_length_21389_cov_10.4886_ID_87504</td>\n",
       "      <td>100.000</td>\n",
       "      <td>100</td>\n",
       "      <td>8218</td>\n",
       "      <td>4109</td>\n",
       "      <td>1</td>\n",
       "      <td>4109</td>\n",
       "      <td>21389</td>\n",
       "      <td>14257</td>\n",
       "      <td>18365</td>\n",
       "      <td>4109</td>\n",
       "      <td>0</td>\n",
       "      <td>0</td>\n",
       "    </tr>\n",
       "  </tbody>\n",
       "</table>\n",
       "</div>"
      ],
      "text/plain": [
       "                              qseqid  \\\n",
       "0   NODE_25_length_30926_cov_18.7711   \n",
       "1  NODE_203_length_12813_cov_28.6907   \n",
       "2   NODE_353_length_9780_cov_17.0422   \n",
       "3   NODE_687_length_6958_cov_21.6469   \n",
       "4  NODE_1451_length_4109_cov_49.7083   \n",
       "\n",
       "                                        sseqid   pident  qcovs  score   qlen  \\\n",
       "0   NODE_109_length_25355_cov_5.19581_ID_86627   99.996     77  47026  30926   \n",
       "1   NODE_683_length_8295_cov_9.51971_ID_110378  100.000     50  12886  12813   \n",
       "2  NODE_141_length_22510_cov_15.0782_ID_182954  100.000    100  19560   9780   \n",
       "3   NODE_156_length_21389_cov_10.4886_ID_87504  100.000    100  13916   6958   \n",
       "4   NODE_156_length_21389_cov_10.4886_ID_87504  100.000    100   8218   4109   \n",
       "\n",
       "   qstart   qend   slen  sstart   send  length  mismatch  gapopen  \n",
       "0       1  23516  25355   23516      1   23516         1        0  \n",
       "1       1   6443   8295    1853   8295    6443         0        0  \n",
       "2       1   9780  22510   19220   9441    9780         0        0  \n",
       "3       1   6958  21389   11354   4397    6958         0        0  \n",
       "4       1   4109  21389   14257  18365    4109         0        0  "
      ]
     },
     "execution_count": 6,
     "metadata": {},
     "output_type": "execute_result"
    }
   ],
   "source": [
    "blast_hits.head()"
   ]
  },
  {
   "cell_type": "code",
   "execution_count": 17,
   "metadata": {
    "collapsed": false
   },
   "outputs": [],
   "source": [
    "def plot_hits(df, sseqid,out_file):\n",
    "    #Calculate reference line (subject sequence)\n",
    "    main_line = [(0,0),(df.slen.iloc[0],0)]\n",
    "    \n",
    "    #Calculate lines of query hits, shifted with respect to their alignment to subject sequence\n",
    "    full_queries = []\n",
    "    aligned_queries = []\n",
    "    labels = [(0,-0.05,sseqid)]\n",
    "    for hit_number,(_,row) in enumerate(df.iterrows()):\n",
    "        y_pos = (hit_number + 1) * 0.1\n",
    "        #Positive strand\n",
    "        if row[\"sstart\"] < row[\"send\"]:\n",
    "            shifted_start = row[\"sstart\"] - row[\"qstart\"]\n",
    "        #Negative strand\n",
    "        else:\n",
    "            shifted_start = row[\"sstart\"] - row[\"qend\"]\n",
    "\n",
    "        #Full length of the query\n",
    "        new_full_query = [(shifted_start,y_pos),(shifted_start+row[\"qlen\"],y_pos)]\n",
    "        #Segment of the query that aligns to the reference\n",
    "        new_aligned_query = [(row[\"sstart\"],y_pos),(row[\"send\"],y_pos)]\n",
    "        new_label = (shifted_start,y_pos,row[\"qseqid\"])\n",
    "\n",
    "        full_queries.append(new_full_query)\n",
    "        aligned_queries.append(new_aligned_query)\n",
    "        labels.append(new_label)\n",
    "    \n",
    "    \n",
    "    pad_left_down = [(-df.slen.iloc[0]/4,-len(new_full_query)*0.2), (0,-len(new_full_query)*0.2)]\n",
    "    pad_right_up  = [(df.slen.iloc[0],(1+len(new_full_query))*0.1), (5*df.slen.iloc[0]/4,(1+len(new_full_query))*0.1)]\n",
    "    \n",
    "    #Matplotlib plot\n",
    "    mpl.rcParams['figure.figsize'] = (10.0, 8.0)\n",
    "    fig,ax = plt.subplots()\n",
    "    lc1 = mc.LineCollection([main_line],linewidths=10,colors=[\"blue\"])\n",
    "    lc2 = mc.LineCollection(full_queries,linewidths=3,colors=[\"black\"])\n",
    "    lc3 = mc.LineCollection(aligned_queries,linewidths=3,colors=[\"green\"])\n",
    "    pad = mc.LineCollection([pad_left_down,pad_right_up],linewidths=3,colors=[\"white\"])\n",
    "    \n",
    "    ax.add_collection(lc1)\n",
    "    ax.add_collection(lc2)\n",
    "    ax.add_collection(lc3)\n",
    "    ax.add_collection(pad)\n",
    "\n",
    "    #Add labels\n",
    "    for lbl in labels:\n",
    "        ax.text(lbl[0],lbl[1]+0.01,lbl[2])\n",
    "\n",
    "    #Set title\n",
    "    ax.autoscale()\n",
    "    ax.set_title(sseqid)\n",
    "    \n",
    "    fig.savefig(out_file)\n",
    "    plt.close()"
   ]
  },
  {
   "cell_type": "code",
   "execution_count": 18,
   "metadata": {
    "collapsed": false,
    "scrolled": true
   },
   "outputs": [],
   "source": [
    "for sseqid,df in blast_hits.groupby(\"sseqid\"):\n",
    "    plot_hits(df,sseqid,\"{}.png\".format(sseqid))"
   ]
  }
 ],
 "metadata": {
  "kernelspec": {
   "display_name": "Python 2",
   "language": "python",
   "name": "python2"
  },
  "language_info": {
   "codemirror_mode": {
    "name": "ipython",
    "version": 2
   },
   "file_extension": ".py",
   "mimetype": "text/x-python",
   "name": "python",
   "nbconvert_exporter": "python",
   "pygments_lexer": "ipython2",
   "version": "2.7.11"
  }
 },
 "nbformat": 4,
 "nbformat_minor": 0
}
