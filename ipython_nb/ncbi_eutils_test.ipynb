{
 "cells": [
  {
   "cell_type": "code",
   "execution_count": 1,
   "metadata": {
    "collapsed": true
   },
   "outputs": [],
   "source": [
    "import requests\n",
    "from bs4 import BeautifulSoup"
   ]
  },
  {
   "cell_type": "code",
   "execution_count": 2,
   "metadata": {
    "collapsed": true
   },
   "outputs": [],
   "source": [
    "r = requests.get(\"http://eutils.ncbi.nlm.nih.gov/entrez/eutils/esummary.fcgi?db=nuccore&id=935523605\")"
   ]
  },
  {
   "cell_type": "code",
   "execution_count": 3,
   "metadata": {
    "collapsed": false
   },
   "outputs": [
    {
     "name": "stdout",
     "output_type": "stream",
     "text": [
      "gut metagenome genome assembly P9E90-k21-2014-09-20, contig contig-6000102, whole genome shotgun sequence\n",
      "749906\n"
     ]
    }
   ],
   "source": [
    "if r.status_code == 200:\n",
    "    print(BeautifulSoup(r.content,\"xml\").find(\"Item\",Name=\"Title\").text )\n",
    "    print(BeautifulSoup(r.content,\"xml\").find(\"Item\",Name=\"TaxId\").text )"
   ]
  },
  {
   "cell_type": "code",
   "execution_count": 10,
   "metadata": {
    "collapsed": true
   },
   "outputs": [],
   "source": [
    "term = \"XP_004967523.1[accn]\"\n",
    "db = \"protein\"\n",
    "r = requests.get(\"http://eutils.ncbi.nlm.nih.gov/entrez/eutils/esearch.fcgi?db={}&term={}&usehistory=y\".format(db,term))"
   ]
  },
  {
   "cell_type": "code",
   "execution_count": 13,
   "metadata": {
    "collapsed": false
   },
   "outputs": [
    {
     "name": "stdout",
     "output_type": "stream",
     "text": [
      "NCID_1_61086232_165.112.9.37_9001_1461339738_678317138_0MetA0_S_MegaStore_F_1\n",
      "1\n"
     ]
    }
   ],
   "source": [
    "doc_xml = BeautifulSoup(r.content,\"xml\")\n",
    "print(doc_xml.find(\"WebEnv\").text)\n",
    "print(doc_xml.find(\"QueryKey\").text)"
   ]
  },
  {
   "cell_type": "code",
   "execution_count": 16,
   "metadata": {
    "collapsed": false
   },
   "outputs": [
    {
     "name": "stdout",
     "output_type": "stream",
     "text": [
      "http://eutils.ncbi.nlm.nih.gov/entrez/eutils/efetch.fcgi?db=protein&query_key=1&WebEnv=NCID_1_61086232_165.112.9.37_9001_1461339738_678317138_0MetA0_S_MegaStore_F_1&rettype=fasta&retmode=text\n"
     ]
    }
   ],
   "source": [
    "query_key = doc_xml.find(\"QueryKey\").text\n",
    "webenv = doc_xml.find(\"WebEnv\").text\n",
    "uri = \"http://eutils.ncbi.nlm.nih.gov/entrez/eutils/efetch.fcgi?db={}&query_key={}&WebEnv={}&rettype=fasta&retmode=text\".format(db,query_key,webenv)\n",
    "print(uri)\n",
    "r = requests.get(uri)"
   ]
  },
  {
   "cell_type": "code",
   "execution_count": 17,
   "metadata": {
    "collapsed": false
   },
   "outputs": [
    {
     "data": {
      "text/plain": [
       "'>gi|514772549|ref|XP_004967523.1| PREDICTED: dual specificity protein phosphatase PHS1-like [Setaria italica]\\nMEQREATQPEEAAEARGREQPSSILPKENEDKDLKLSSRVVSLFFGGDISTPAQTFEKWLSLVRKRSGAF\\nRPSGFPHRGSRIEVMPSGSFSLFGSGDLSEHLVREESVGKDPLTCDQPPEISLWERLGNASTLDIESSEF\\nSWDVLSSLHHTEHSSGSEHSEDEMNKALEVTVNSGGVVFFALFSSSSNSELPEEAAAVIKFSSSKMATQA\\nERLGYEFARLLGVQTPQARVVYNSSPEWQGIKHAAENARAVAVSNNDEVGEMTCSELMEALELSRCLILM\\nSYIHGSPLLESSKAFNLREAACVTASSLGRVLMLDLILRNEDRLPCRQLGWRGNPANLMISDKSSSPNVD\\nRLQDSISTTESSNRLIREILLREKRSHSTNGRLDSVELNPMSQKLEALKNERENTESTNDTFHIVAIDTG\\nVPRRPPAGRRMKDHERYPKVVELILNCSDYSANILYEISGGKLGHPGPDEFTCTDSCVSLSDEDNAVAIH\\nEFRGSFRAALRDLEGFHLFLLQLYQKLDGLLRVFLSIITKSSEEPDNNDCVLSDFPSPGASYSTPCKQLN\\nNELHSDSEMLKSTTKSSSAGSRGSSDSVSPLSRDSWSNKFFKGSAEAPRNLRMTMKLRDFYKNPKVDPEL\\nLKEIEQWNEALKTDVIKFCQENNFHSGFFDGTENNMVADAYELKVRLEHIIERIALISDAANTERPSLVV\\nNNLFIGGALAARSKYTLQHLGITHVLCLCSNEIGQSDSQFPDLFEYKNFSIRDDDDANISDLFEEASDFI\\nDHVNHIGGKVLVHCFEGKSRSATVVLAFLMLRMGFTLAKAWNLLKKVHRRAQPNDGFAKALLALDKKLHG\\nKVSMDWQHKRPEMKVCPICSKNVGLSTSSLKLHLQKAHKRLSAGSVDSAMTMEIQKSIESLRISRGGSLS\\nPSQKLTKAFANELSF\\n\\n'"
      ]
     },
     "execution_count": 17,
     "metadata": {},
     "output_type": "execute_result"
    }
   ],
   "source": [
    "r.content.decode()"
   ]
  }
 ],
 "metadata": {
  "kernelspec": {
   "display_name": "Python 3",
   "language": "python",
   "name": "python3"
  },
  "language_info": {
   "codemirror_mode": {
    "name": "ipython",
    "version": 3
   },
   "file_extension": ".py",
   "mimetype": "text/x-python",
   "name": "python",
   "nbconvert_exporter": "python",
   "pygments_lexer": "ipython3",
   "version": "3.5.1"
  }
 },
 "nbformat": 4,
 "nbformat_minor": 0
}
