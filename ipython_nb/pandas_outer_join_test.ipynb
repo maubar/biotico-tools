{
 "metadata": {
  "name": "",
  "signature": "sha256:d7d97a93b6288a3e5c3b68658bf0d97f8402ca1bc26b0a5d022e8adc80a42fb3"
 },
 "nbformat": 3,
 "nbformat_minor": 0,
 "worksheets": [
  {
   "cells": [
    {
     "cell_type": "code",
     "collapsed": false,
     "input": [
      "import pandas as pd\n",
      "import numpy as np"
     ],
     "language": "python",
     "metadata": {},
     "outputs": [
      {
       "output_type": "stream",
       "stream": "stderr",
       "text": [
        "/Users/mauriciobarrientos/anaconda/lib/python2.7/site-packages/pytz/__init__.py:29: UserWarning: Module argparse was already imported from /Users/mauriciobarrientos/anaconda/python.app/Contents/lib/python2.7/argparse.pyc, but /Users/mauriciobarrientos/anaconda/lib/python2.7/site-packages is being added to sys.path\n",
        "  from pkg_resources import resource_stream\n"
       ]
      }
     ],
     "prompt_number": 1
    },
    {
     "cell_type": "markdown",
     "metadata": {},
     "source": [
      "Load set of common peptides\n",
      "==========================="
     ]
    },
    {
     "cell_type": "code",
     "collapsed": false,
     "input": [
      "common_peps = []\n",
      "with open(\"common_peps.txt\", \"r\") as common_peps_file:\n",
      "    common_peps = common_peps_file.read().split(\"\\n\")\n",
      "common_peps = set(common_peps)"
     ],
     "language": "python",
     "metadata": {},
     "outputs": [],
     "prompt_number": 2
    },
    {
     "cell_type": "code",
     "collapsed": false,
     "input": [
      "len(common_peps)"
     ],
     "language": "python",
     "metadata": {},
     "outputs": [
      {
       "metadata": {},
       "output_type": "pyout",
       "prompt_number": 3,
       "text": [
        "296"
       ]
      }
     ],
     "prompt_number": 3
    },
    {
     "cell_type": "markdown",
     "metadata": {},
     "source": [
      "Load plate files\n",
      "----------------"
     ]
    },
    {
     "cell_type": "code",
     "collapsed": false,
     "input": [
      "plates  = []\n",
      "plate_names = [\"plate1.txt\",\"plate2.txt\",\"plate3.txt\"]\n",
      "for filename in plate_names:\n",
      "    plates.append(pd.read_csv(filename,sep=\"\\t\"))"
     ],
     "language": "python",
     "metadata": {},
     "outputs": [],
     "prompt_number": 4
    },
    {
     "cell_type": "code",
     "collapsed": false,
     "input": [
      "for p in plates:\n",
      "    print p.shape"
     ],
     "language": "python",
     "metadata": {},
     "outputs": [
      {
       "output_type": "stream",
       "stream": "stdout",
       "text": [
        "(194, 48)\n",
        "(277, 47)\n",
        "(248, 47)\n"
       ]
      }
     ],
     "prompt_number": 5
    },
    {
     "cell_type": "code",
     "collapsed": false,
     "input": [
      "plates[0].axes[1]"
     ],
     "language": "python",
     "metadata": {},
     "outputs": [
      {
       "metadata": {},
       "output_type": "pyout",
       "prompt_number": 6,
       "text": [
        "Index([u'Unnamed: 0', u'Sequence', u'Phospho (STY)', u'seq+ph', u'K Count', u'R Count', u'Modifications', u'Mass', u'Mass Fractional Part', u'Protein Groups', u'Proteins', u'Unique (Groups)', u'Unique (Proteins)', u'Oxidation (M)', u'Missed cleavages', u'Retention time', u'Calibrated Retention Time', u'Charges', u'PEP', u'MS/MS Count', u'MS/MS Scan Number', u'Raw file', u'Score', u'Delta score', u'Ratio H/L', u'Ratio H/L normalized', u'log2(Ratio H/L norm)', u'Ratio H/L variability [%]', u'Ratio H/L count', u'Ratio H/L iso-count', u'Ratio H/L type', u'Intensity', u'Intensity L', u'Intensity H', u'Reverse', u'Contaminant', u'id', u'Protein group IDs', u'Peptide ID', u'Evidence IDs', u'MS/MS IDs', u'Best MS/MS', u'Oxidation (M) site IDs', u'Phospho (STY) site IDs', u'Sequence+phospho', u'Missing channel', u'Unnamed: 46', u'Gene Name'], dtype='object')"
       ]
      }
     ],
     "prompt_number": 6
    },
    {
     "cell_type": "markdown",
     "metadata": {},
     "source": [
      "Keep only peptides in common peptide list\n",
      "-----------------------------------------"
     ]
    },
    {
     "cell_type": "code",
     "collapsed": false,
     "input": [
      "filtered_plates = []\n",
      "for p in plates:\n",
      "    filter_col = p[\"Sequence+phospho\"].apply(lambda x: x in common_peps) #True if peptide is in common list\n",
      "    filtered_plates.append(p.ix[filter_col][[\"Sequence+phospho\",\"Gene Name\",'log2(Ratio H/L norm)', 'Intensity L', 'Intensity H']])"
     ],
     "language": "python",
     "metadata": {},
     "outputs": [],
     "prompt_number": 7
    },
    {
     "cell_type": "code",
     "collapsed": false,
     "input": [
      "for p in filtered_plates:\n",
      "    print p.shape"
     ],
     "language": "python",
     "metadata": {},
     "outputs": [
      {
       "output_type": "stream",
       "stream": "stdout",
       "text": [
        "(194, 5)\n",
        "(277, 5)\n",
        "(248, 5)\n"
       ]
      }
     ],
     "prompt_number": 8
    },
    {
     "cell_type": "markdown",
     "metadata": {},
     "source": [
      "Magic Joining\n",
      "============="
     ]
    },
    {
     "cell_type": "code",
     "collapsed": false,
     "input": [
      "join1 = pd.merge(filtered_plates[0],filtered_plates[1],on=\"Sequence+phospho\",how=\"outer\")\n",
      "join2 = pd.merge(join1,filtered_plates[2],on=\"Sequence+phospho\",how=\"outer\")"
     ],
     "language": "python",
     "metadata": {},
     "outputs": [],
     "prompt_number": 9
    },
    {
     "cell_type": "code",
     "collapsed": false,
     "input": [
      "join2.to_csv(\"joined.csv\",sep=\",\")"
     ],
     "language": "python",
     "metadata": {},
     "outputs": [],
     "prompt_number": 10
    }
   ],
   "metadata": {}
  }
 ]
}